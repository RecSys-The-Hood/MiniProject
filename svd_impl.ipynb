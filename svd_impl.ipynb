{
 "cells": [
  {
   "cell_type": "code",
   "execution_count": 18,
   "metadata": {},
   "outputs": [],
   "source": [
    "import numpy as np"
   ]
  },
  {
   "cell_type": "code",
   "execution_count": 19,
   "metadata": {},
   "outputs": [],
   "source": [
    "def QRDecompose(A, standard=False):\n",
    "    m, n = A.shape  \n",
    "    Q = np.zeros((m, n))\n",
    "    R = np.zeros((n, n))\n",
    "\n",
    "    for j in range(n):\n",
    "        v = A[:, j]\n",
    "        for i in range(j):\n",
    "            R[i, j] = np.dot(Q[:, i], A[:, j])\n",
    "            v -= R[i, j] * Q[:, i]\n",
    "        R[j, j] = np.linalg.norm(v)\n",
    "        Q[:, j] = v / R[j, j]\n",
    "\n",
    "    if standard:\n",
    "        for i in range(n):\n",
    "            if R[i, i] < 0.0:\n",
    "                Q[:, i] *= -1\n",
    "                R[i, :] *= -1\n",
    "\n",
    "    return Q, R"
   ]
  },
  {
   "cell_type": "code",
   "execution_count": 20,
   "metadata": {},
   "outputs": [],
   "source": [
    "def is_upper_tri(A, tol):\n",
    "  n = len(A)\n",
    "  for i in range(0,n):\n",
    "    for j in range(0,i):\n",
    "      # if the lower triangular entries fall below a threshold (tol), only then it is considered an upper triangular matrix, else not\n",
    "      if np.abs(A[i][j]) > tol:\n",
    "        return False\n",
    "  return True"
   ]
  },
  {
   "cell_type": "code",
   "execution_count": 21,
   "metadata": {},
   "outputs": [],
   "source": [
    "def eigenDecompose(A):\n",
    "  # A is a square, symmetric matrix\n",
    "\n",
    "  n = len(A)\n",
    "  X = np.copy(A)  # or X = my_copy(A), see below\n",
    "  pq = np.identity(n)\n",
    "  max_ct = 10000\n",
    "\n",
    "  ct = 0\n",
    "  while ct < max_ct:\n",
    "    \n",
    "    Q, R = QRDecompose(X)\n",
    "    pq = np.matmul(pq, Q)  # accum Q\n",
    "    X = np.matmul(R, Q)  # note order\n",
    "    ct += 1\n",
    "\n",
    "    if is_upper_tri(X, 1.0e-8) == True:\n",
    "      break\n",
    "\n",
    "  if ct == max_ct:\n",
    "    print(\"WARN: no converge \")\n",
    "\n",
    "  # eigenvalues are diag elements of X\n",
    "  e_vals = np.zeros(n, dtype=np.float64)\n",
    "  for i in range(n):\n",
    "    e_vals[i] = X[i][i]\n",
    "\n",
    "  # eigenvectors are columns of pq\n",
    "  e_vecs = np.copy(pq)\n",
    "  return (e_vals, e_vecs)"
   ]
  },
  {
   "cell_type": "code",
   "execution_count": 22,
   "metadata": {},
   "outputs": [],
   "source": [
    "def main():\n",
    "  print(\"\\nBegin eigenvalues, eigenvectors from scratch \")\n",
    "  np.set_printoptions(suppress=True,\n",
    "    precision=4, floatmode='fixed')\n",
    "\n",
    "  A = np.array([[0.9, 0.5, 0.2],[0.5, 0.3, 0.4],[0.2, 0.4, 0.8]], dtype=np.float64)\n",
    "\n",
    "  print(\"\\nSource matrix: \")\n",
    "  print(A)\n",
    "\n",
    "  e_vals, e_vecs = eigenDecompose(A)\n",
    "  print(\"\\nEigenvalues from scratch: \")\n",
    "  print(e_vals)\n",
    "  print(\"\\nEigenvectors (columns) from scratch: \")\n",
    "  print(e_vecs)\n",
    "\n",
    "  e_vals, e_vecs = np.linalg.eig(A)\n",
    "  print(\"\\neigenvalues from np.linalg: \")\n",
    "  print(e_vals)\n",
    "  print(\"\\neigenvectors (columns) from np.linalg: \")\n",
    "  print(e_vecs)\n",
    "\n",
    "  print(\"\\nEnd demo \")"
   ]
  },
  {
   "cell_type": "code",
   "execution_count": 23,
   "metadata": {},
   "outputs": [
    {
     "name": "stdout",
     "output_type": "stream",
     "text": [
      "\n",
      "Begin eigenvalues, eigenvectors from scratch \n",
      "\n",
      "Source matrix: \n",
      "[[0.9000 0.5000 0.2000]\n",
      " [0.5000 0.3000 0.4000]\n",
      " [0.2000 0.4000 0.8000]]\n",
      "\n",
      "Eigenvalues from scratch: \n",
      "[ 1.4217  0.6439 -0.0655]\n",
      "\n",
      "Eigenvectors (columns) from scratch: \n",
      "[[ 0.6815 -0.6223 -0.3850]\n",
      " [ 0.4958  0.0057  0.8684]\n",
      " [ 0.5383  0.7828 -0.3124]]\n",
      "\n",
      "eigenvalues from np.linalg: \n",
      "[ 1.4217  0.6439 -0.0655]\n",
      "\n",
      "eigenvectors (columns) from np.linalg: \n",
      "[[-0.6815 -0.6223  0.3850]\n",
      " [-0.4958  0.0057 -0.8684]\n",
      " [-0.5383  0.7828  0.3124]]\n",
      "\n",
      "End demo \n"
     ]
    }
   ],
   "source": [
    "if __name__ == \"__main__\":\n",
    "  main()"
   ]
  }
 ],
 "metadata": {
  "kernelspec": {
   "display_name": "base",
   "language": "python",
   "name": "python3"
  },
  "language_info": {
   "codemirror_mode": {
    "name": "ipython",
    "version": 3
   },
   "file_extension": ".py",
   "mimetype": "text/x-python",
   "name": "python",
   "nbconvert_exporter": "python",
   "pygments_lexer": "ipython3",
   "version": "3.10.13"
  }
 },
 "nbformat": 4,
 "nbformat_minor": 2
}
