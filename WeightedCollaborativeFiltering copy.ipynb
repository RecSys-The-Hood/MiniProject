{
 "cells": [
  {
   "cell_type": "code",
   "execution_count": 14,
   "metadata": {},
   "outputs": [],
   "source": [
    "import numpy as np\n",
    "import pandas as pd\n",
    "import math"
   ]
  },
  {
   "cell_type": "code",
   "execution_count": 15,
   "metadata": {},
   "outputs": [],
   "source": [
    "class SimilarityMetric:\n",
    "\n",
    "    def calculateSimilarity(self, u, v):\n",
    "        pass"
   ]
  },
  {
   "cell_type": "code",
   "execution_count": 16,
   "metadata": {},
   "outputs": [],
   "source": [
    "class WeightedPCCSimilarity(SimilarityMetric):\n",
    "\n",
    "    def __init__(self, weights):\n",
    "        self.weights = weights\n",
    "\n",
    "    def calculateSimilarity(self, u, v, u_mean, v_mean):\n",
    "        return self.__weighted_pearson_correlation(u, v, u_mean, v_mean)\n",
    "    \n",
    "    def __weighted_pearson_correlation(self, x, y, x_mean, y_mean):\n",
    "        x_df = pd.DataFrame(x, columns = ['a'])\n",
    "        y_df = pd.DataFrame(y, columns = ['a'])\n",
    "\n",
    "        x_indices = x_df[x_df['a'].notnull()].index\n",
    "        y_indices = y_df[y_df['a'].notnull()].index\n",
    "\n",
    "        indices = x_indices.intersection(y_indices)\n",
    "\n",
    "        x_reqd = x_df.iloc[indices]\n",
    "        y_reqd = y_df.iloc[indices]\n",
    "\n",
    "        w_reqd = pd.DataFrame(self.weights, columns = ['a']).iloc[indices]\n",
    "\n",
    "        # Compute weighted covariance\n",
    "        weighted_covariance = sum((w_reqd['a'] * (x_reqd['a'] - x_mean)) * (x_reqd['a'] - y_mean))\n",
    "\n",
    "        # Compute weighted standard deviations\n",
    "        weighted_std_x = math.sqrt(sum(w_reqd['a'] * (x_reqd['a'] - x_mean)**2))\n",
    "        weighted_std_y = math.sqrt(sum(w_reqd['a'] * (y_reqd['a'] - y_mean)**2))\n",
    "\n",
    "        # Compute weighted Pearson's correlation coefficient\n",
    "        if weighted_std_x == 0 or weighted_std_y == 0:\n",
    "            return 0  # Handle division by zero\n",
    "        else:\n",
    "            weighted_corr = weighted_covariance / (weighted_std_x * weighted_std_y)\n",
    "            return weighted_corr"
   ]
  },
  {
   "cell_type": "code",
   "execution_count": 17,
   "metadata": {},
   "outputs": [],
   "source": [
    "class CollaborativeFiltering:\n",
    "\n",
    "    def __init__(self, data, metric:SimilarityMetric):\n",
    "        \"\"\"\n",
    "        Initialize CollaborativeFiltering object with user-item rating data.\n",
    "        \n",
    "        Parameters:\n",
    "        - data: DataFrame containing user-item ratings\n",
    "        \"\"\"\n",
    "        self.data = data\n",
    "        self.similarity_matrix = None\n",
    "        self.metric = metric\n",
    "        self.movies = pd.read_csv(\"movies.csv\")\n",
    "        self.movies.set_index('MovieID', inplace=True)\n",
    "    \n",
    "    def calculate_similarity_matrix(self):\n",
    "        pass\n",
    "\n",
    "    def predict_ratings(self, user_id):\n",
    "        pass\n",
    "    \n",
    "    def getMovies(self, user_id, movie_id_list):\n",
    "\n",
    "        recommendations = []\n",
    "        self.movies.set_index(self.data.columns)\n",
    "\n",
    "        for i in movie_id_list:\n",
    "\n",
    "            user = pd.DataFrame(self.data.loc[user_id], index = self.data.columns, columns = ['a'])\n",
    "            rating = user.loc[i]\n",
    "            movie = self.movies.loc[i]\n",
    "            recommendations.append([i, rating, movie['Title'], movie['Genres']])\n",
    "\n",
    "        return recommendations\n",
    "    \n",
    "    def getSimilarityMatrix(self):\n",
    "        return self.similarity_matrix"
   ]
  },
  {
   "cell_type": "code",
   "execution_count": 18,
   "metadata": {},
   "outputs": [],
   "source": [
    "class CollaborativeFilteringUserUser(CollaborativeFiltering):\n",
    "    def __init__(self, data, metric:SimilarityMetric):\n",
    "        \n",
    "        super().__init__(data, metric)\n",
    "        self.means = self.data.mean(axis=1)\n",
    "\n",
    "    def calculate_similarity_matrix(self):\n",
    "        \n",
    "        # user_item_matrix = self.train_data.pivot(index='UserID', columns='MovieID', values='Rating').fillna(0)\n",
    "\n",
    "        n_users = self.data.shape[0]\n",
    "        similarity_matrix = np.zeros((n_users, n_users))\n",
    "        for i in range(n_users):\n",
    "            for j in range(i+1):\n",
    "                temp = self.metric.calculateSimilarity(self.data.iloc[i, :], self.data.iloc[j, :], self.means[self.data.index[i]], self.means[self.data.index[j]])\n",
    "                similarity_matrix[i, j] = temp\n",
    "                similarity_matrix[j, i] = temp\n",
    "                \n",
    "        self.similarity_matrix = pd.DataFrame(similarity_matrix, index=self.data.index, columns=self.data.index)\n",
    "\n",
    "    def predict_ratings(self, user_id):\n",
    "        \"\"\"\n",
    "        Predict ratings for items for a given user.\n",
    "\n",
    "        Parameters:\n",
    "        - user_id: ID of the user for whom to predict ratings\n",
    "\n",
    "        Returns:\n",
    "        - DataFrame containing predicted ratings for each item\n",
    "        \"\"\"\n",
    "\n",
    "        predicted_ratings = pd.DataFrame(index=self.data.columns, columns=['PredictedRating'])\n",
    "\n",
    "        for movie_id in predicted_ratings.index:\n",
    "            numerator = 0\n",
    "            denominator = 0\n",
    "\n",
    "            for other_user_id in self.data.index:\n",
    "                other_user_rating = self.data.loc[other_user_id, movie_id]\n",
    "                similarity = self.similarity_matrix.loc[user_id , other_user_id]\n",
    "\n",
    "                if not np.isnan(other_user_rating):\n",
    "                    numerator += similarity * (other_user_rating - self.means[other_user_id])\n",
    "                    denominator += abs(similarity)\n",
    "\n",
    "            predicted_ratings.loc[movie_id, 'PredictedRating'] = numerator / (denominator + 1e-9) + self.means[user_id]\n",
    "            \n",
    "        return predicted_ratings\n",
    "    \n",
    "    "
   ]
  },
  {
   "cell_type": "code",
   "execution_count": 19,
   "metadata": {},
   "outputs": [],
   "source": [
    "class WeightsProvider:\n",
    "    \n",
    "    def getWeightsArray(self):\n",
    "        pass"
   ]
  },
  {
   "cell_type": "code",
   "execution_count": 20,
   "metadata": {},
   "outputs": [],
   "source": [
    "class IDFWeightsProvider(WeightsProvider):\n",
    "    \n",
    "    def __init__(self, data):\n",
    "\n",
    "        arrayM = np.full((data.shape[1],), data.shape[1])\n",
    "        watched = np.count_nonzero(data, axis=0)\n",
    "\n",
    "        self.weights = np.log(arrayM / (watched + 1e-9))\n",
    "    \n",
    "    def getWeightsArray(self):\n",
    "        return self.weights"
   ]
  },
  {
   "cell_type": "code",
   "execution_count": 21,
   "metadata": {},
   "outputs": [],
   "source": [
    "class VarianceWeightsProvider(WeightsProvider):\n",
    "    \n",
    "    def __init__(self, data):\n",
    "\n",
    "        temp = data.replace(0, np.NaN)\n",
    "        self.weights = temp.var(axis=1)\n",
    "    \n",
    "    def getWeightsArray(self):\n",
    "        return self.weights"
   ]
  },
  {
   "cell_type": "code",
   "execution_count": 22,
   "metadata": {},
   "outputs": [
    {
     "name": "stderr",
     "output_type": "stream",
     "text": [
      "/tmp/ipykernel_225124/392683434.py:1: DtypeWarning: Columns (26) have mixed types. Specify dtype option on import or set low_memory=False.\n",
      "  data=pd.read_csv(\"EncodedCombined.csv\")\n"
     ]
    }
   ],
   "source": [
    "data=pd.read_csv(\"EncodedCombined.csv\")\n",
    "\n",
    "user_item_matrix = data.pivot(index='UserID', columns='MovieID', values='Rating')"
   ]
  },
  {
   "cell_type": "code",
   "execution_count": 23,
   "metadata": {},
   "outputs": [],
   "source": [
    "# WeightProvider = IDFWeightsProvider(user_item_matrix)\n",
    "\n",
    "# metric = WeightedPCCSimilarity(WeightProvider.getWeightsArray())\n",
    "# cf = CollaborativeFilteringUserUser(user_item_matrix, metric)\n",
    "\n",
    "# cf.calculate_similarity_matrix()\n",
    "# cf.getSimilarityMatrix()"
   ]
  },
  {
   "cell_type": "code",
   "execution_count": 24,
   "metadata": {},
   "outputs": [],
   "source": [
    "# cf.getSimilarityMatrix().to_csv(\"IDF_Weighted_PCC_collaborative_filtering_similarity_matix.csv\")"
   ]
  },
  {
   "cell_type": "code",
   "execution_count": 25,
   "metadata": {},
   "outputs": [],
   "source": [
    "# prediction_df = cf.predict_ratings(2)\n",
    "\n",
    "# ids = prediction_df.sort_values(by=['PredictedRating'].tail(10)).index\n",
    "# movies = cf.getMovies(2, ids)\n",
    "\n",
    "# for movie in movies:\n",
    "#     print(f\"Title : {movie[2]} , MovieID : {movie[0]} , Rating : {movie[1]} , Genres : {movie[3]}\")"
   ]
  },
  {
   "cell_type": "code",
   "execution_count": 26,
   "metadata": {},
   "outputs": [],
   "source": [
    "WeightProvider = VarianceWeightsProvider(user_item_matrix)\n",
    "\n",
    "metric = WeightedPCCSimilarity(WeightProvider.getWeightsArray())\n",
    "cf = CollaborativeFilteringUserUser(user_item_matrix, metric)\n",
    "cf.calculate_similarity_matrix()\n",
    "\n",
    "cf.getSimilarityMatrix()"
   ]
  },
  {
   "cell_type": "code",
   "execution_count": null,
   "metadata": {},
   "outputs": [],
   "source": [
    "cf.getSimilarityMatrix().to_csv(\"Variance_Weighted_PCC_collaborative_filtering_similarity_matix.csv\")"
   ]
  },
  {
   "cell_type": "code",
   "execution_count": null,
   "metadata": {},
   "outputs": [],
   "source": [
    "prediction_df = cf.predict_ratings(2)\n",
    "\n",
    "ids = prediction_df.sort_values(by=['PredictedRating']).tail(10).index\n",
    "movies = cf.getMovies(2, ids)\n",
    "\n",
    "for movie in movies:\n",
    "    print(f\"Title : {movie[2]} , MovieID : {movie[0]} , Rating : {movie[1]} , Genres : {movie[3]}\")"
   ]
  }
 ],
 "metadata": {
  "kernelspec": {
   "display_name": "base",
   "language": "python",
   "name": "python3"
  },
  "language_info": {
   "codemirror_mode": {
    "name": "ipython",
    "version": 3
   },
   "file_extension": ".py",
   "mimetype": "text/x-python",
   "name": "python",
   "nbconvert_exporter": "python",
   "pygments_lexer": "ipython3",
   "version": "3.10.13"
  }
 },
 "nbformat": 4,
 "nbformat_minor": 2
}
