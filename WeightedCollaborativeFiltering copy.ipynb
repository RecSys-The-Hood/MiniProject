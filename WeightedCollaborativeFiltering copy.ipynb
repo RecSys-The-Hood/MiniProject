{
 "cells": [
  {
   "cell_type": "code",
   "execution_count": 151,
   "metadata": {},
   "outputs": [],
   "source": [
    "import numpy as np\n",
    "import pandas as pd\n",
    "import math"
   ]
  },
  {
   "cell_type": "code",
   "execution_count": 152,
   "metadata": {},
   "outputs": [],
   "source": [
    "class SimilarityMetric:\n",
    "\n",
    "    def calculateSimilarity(self, u, v, u_mean, v_mean):\n",
    "        pass"
   ]
  },
  {
   "cell_type": "code",
   "execution_count": 153,
   "metadata": {},
   "outputs": [],
   "source": [
    "class WeightedCosineSimilarity(SimilarityMetric):\n",
    "\n",
    "    def __init__(self, weights):\n",
    "        self.weights = weights\n",
    "\n",
    "    def calculateSimilarity(self, u, v, u_mean, v_mean):\n",
    "        u = np.nan_to_num(u, nan=0)\n",
    "        u_weight_root = u * np.sqrt(self.weights)\n",
    "        v = np.nan_to_num(v, nan=0)\n",
    "        v_weight_root = v * np.sqrt(self.weights)\n",
    "\n",
    "        return np.dot(u_weight_root, v_weight_root) / (np.linalg.norm(u_weight_root) * np.linalg.norm(v_weight_root) + 1e-9)\n"
   ]
  },
  {
   "cell_type": "code",
   "execution_count": 154,
   "metadata": {},
   "outputs": [],
   "source": [
    "class WeightedPCCSimilarity(SimilarityMetric):\n",
    "\n",
    "    def __init__(self, weights):\n",
    "        self.weights = weights\n",
    "\n",
    "    def calculateSimilarity(self, u, v, u_mean, v_mean):\n",
    "        return self.__weighted_pearson_correlation(u, v, u_mean, v_mean)\n",
    "    \n",
    "    def __weighted_pearson_correlation(self, x, y, x_mean, y_mean):\n",
    "        x_df = pd.DataFrame(x, columns = ['a'])\n",
    "        y_df = pd.DataFrame(y, columns = ['a'])\n",
    "\n",
    "        x_indices = x_df[x_df['a'].notnull()].index\n",
    "        y_indices = y_df[y_df['a'].notnull()].index\n",
    "\n",
    "        indices = x_indices.intersection(y_indices)\n",
    "\n",
    "        x_reqd = x_df.iloc[indices]\n",
    "        y_reqd = y_df.iloc[indices]\n",
    "\n",
    "        w_reqd = pd.DataFrame(self.weights, columns = ['a']).iloc[indices]\n",
    "\n",
    "        # Compute weighted covariance\n",
    "        weighted_covariance = sum((w_reqd['a'] * (x_reqd['a'] - x_mean)) * (x_reqd['a'] - y_mean))\n",
    "\n",
    "        # Compute weighted standard deviations\n",
    "        weighted_std_x = math.sqrt(sum(w_reqd['a'] * (x_reqd['a'] - x_mean)**2))\n",
    "        weighted_std_y = math.sqrt(sum(w_reqd['a'] * (y_reqd['a'] - y_mean)**2))\n",
    "\n",
    "        # Compute weighted Pearson's correlation coefficient\n",
    "        if weighted_std_x == 0 or weighted_std_y == 0:\n",
    "            return 0  # Handle division by zero\n",
    "        else:\n",
    "            weighted_corr = weighted_covariance / (weighted_std_x * weighted_std_y)\n",
    "            return weighted_corr"
   ]
  },
  {
   "cell_type": "code",
   "execution_count": 155,
   "metadata": {},
   "outputs": [],
   "source": [
    "class CollaborativeFiltering:\n",
    "\n",
    "    def __init__(self, data, metric:SimilarityMetric):\n",
    "        \"\"\"\n",
    "        Initialize CollaborativeFiltering object with user-item rating data.\n",
    "        \n",
    "        Parameters:\n",
    "        - data: DataFrame containing user-item ratings\n",
    "        \"\"\"\n",
    "        self.data = data\n",
    "        self.similarity_matrix = None\n",
    "        self.metric = metric\n",
    "        self.movies = pd.read_csv(\"movies.csv\")\n",
    "        self.movies.set_index('MovieID', inplace=True)\n",
    "    \n",
    "    def calculate_similarity_matrix(self):\n",
    "        pass\n",
    "\n",
    "    def predict_ratings(self, user_id):\n",
    "        pass\n",
    "    \n",
    "    def getMovies(self, user_id, movie_id_list):\n",
    "\n",
    "        recommendations = []\n",
    "\n",
    "        for i in movie_id_list:\n",
    "\n",
    "            user = pd.DataFrame(self.data.loc[user_id], index = self.data.columns, columns = ['a'])\n",
    "            rating = user.loc[i]\n",
    "            movie = self.movies.loc[i]\n",
    "            recommendations.append([i, rating, movie['Title'], movie['Genres']])\n",
    "\n",
    "        return recommendations\n",
    "    \n",
    "    def getSimilarityMatrix(self):\n",
    "        return self.similarity_matrix"
   ]
  },
  {
   "cell_type": "code",
   "execution_count": 156,
   "metadata": {},
   "outputs": [],
   "source": [
    "class CollaborativeFilteringUserUser(CollaborativeFiltering):\n",
    "    def __init__(self, data, metric:SimilarityMetric):\n",
    "        \n",
    "        super().__init__(data, metric)\n",
    "        self.means = self.data.mean(axis=1)\n",
    "\n",
    "    def calculate_similarity_matrix(self):\n",
    "        \n",
    "        # user_item_matrix = self.train_data.pivot(index='UserID', columns='MovieID', values='Rating').fillna(0)\n",
    "\n",
    "        n_users = self.data.shape[0]\n",
    "        similarity_matrix = np.zeros((n_users, n_users))\n",
    "        for i in range(n_users):\n",
    "            for j in range(i+1):\n",
    "                temp = self.metric.calculateSimilarity(self.data.iloc[i, :], self.data.iloc[j, :], self.means[self.data.index[i]], self.means[self.data.index[j]])\n",
    "                similarity_matrix[i, j] = temp\n",
    "                similarity_matrix[j, i] = temp\n",
    "                \n",
    "        self.similarity_matrix = pd.DataFrame(similarity_matrix, index=self.data.index, columns=self.data.index)\n",
    "\n",
    "    def predict_ratings(self, user_id):\n",
    "        \"\"\"\n",
    "        Predict ratings for items for a given user.\n",
    "\n",
    "        Parameters:\n",
    "        - user_id: ID of the user for whom to predict ratings\n",
    "\n",
    "        Returns:\n",
    "        - DataFrame containing predicted ratings for each item\n",
    "        \"\"\"\n",
    "\n",
    "        predicted_ratings = pd.DataFrame(index=self.data.columns, columns=['PredictedRating'])\n",
    "\n",
    "        for movie_id in predicted_ratings.index:\n",
    "            numerator = 0\n",
    "            denominator = 0\n",
    "\n",
    "            for other_user_id in self.data.index:\n",
    "                other_user_rating = self.data.loc[other_user_id, movie_id]\n",
    "                similarity = self.similarity_matrix.loc[user_id , other_user_id]\n",
    "\n",
    "                if not np.isnan(other_user_rating):\n",
    "                    numerator += similarity * (other_user_rating)\n",
    "                    denominator += abs(similarity)\n",
    "\n",
    "            predicted_ratings.loc[movie_id, 'PredictedRating'] = numerator / (denominator + 1e-9)\n",
    "            \n",
    "        return predicted_ratings\n",
    "    \n",
    "    "
   ]
  },
  {
   "cell_type": "code",
   "execution_count": 157,
   "metadata": {},
   "outputs": [],
   "source": [
    "class WeightsProvider:\n",
    "    \n",
    "    def getWeightsArray(self):\n",
    "        pass"
   ]
  },
  {
   "cell_type": "code",
   "execution_count": 158,
   "metadata": {},
   "outputs": [],
   "source": [
    "class VarianceWeightsProvider(WeightsProvider):\n",
    "    \n",
    "    def __init__(self, data):\n",
    "\n",
    "        temp = data.replace(0, np.NaN)\n",
    "        weights = np.array(temp.var(axis=0))\n",
    "        self.weights = np.nan_to_num(weights, nan=0)\n",
    "\n",
    "        # print(self.weights.shape)\n",
    "    \n",
    "    def getWeightsArray(self):\n",
    "        return self.weights"
   ]
  },
  {
   "cell_type": "code",
   "execution_count": 159,
   "metadata": {},
   "outputs": [
    {
     "name": "stderr",
     "output_type": "stream",
     "text": [
      "/tmp/ipykernel_257931/392683434.py:1: DtypeWarning: Columns (26) have mixed types. Specify dtype option on import or set low_memory=False.\n",
      "  data=pd.read_csv(\"EncodedCombined.csv\")\n"
     ]
    }
   ],
   "source": [
    "data=pd.read_csv(\"EncodedCombined.csv\")\n",
    "\n",
    "user_item_matrix = data.pivot(index='UserID', columns='MovieID', values='Rating')"
   ]
  },
  {
   "cell_type": "code",
   "execution_count": 160,
   "metadata": {},
   "outputs": [],
   "source": [
    "# WeightProvider = IDFWeightsProvider(user_item_matrix)\n",
    "\n",
    "# metric = WeightedPCCSimilarity(WeightProvider.getWeightsArray())\n",
    "# cf = CollaborativeFilteringUserUser(user_item_matrix, metric)\n",
    "\n",
    "# cf.calculate_similarity_matrix()\n",
    "# cf.getSimilarityMatrix()"
   ]
  },
  {
   "cell_type": "code",
   "execution_count": 161,
   "metadata": {},
   "outputs": [],
   "source": [
    "# cf.getSimilarityMatrix().to_csv(\"IDF_Weighted_PCC_collaborative_filtering_similarity_matix.csv\")"
   ]
  },
  {
   "cell_type": "code",
   "execution_count": 162,
   "metadata": {},
   "outputs": [],
   "source": [
    "# prediction_df = cf.predict_ratings(2)\n",
    "\n",
    "# ids = prediction_df.sort_values(by=['PredictedRating'].tail(10)).index\n",
    "# movies = cf.getMovies(2, ids)\n",
    "\n",
    "# for movie in movies:\n",
    "#     print(f\"Title : {movie[2]} , MovieID : {movie[0]} , Rating : {movie[1]} , Genres : {movie[3]}\")"
   ]
  },
  {
   "cell_type": "code",
   "execution_count": 163,
   "metadata": {},
   "outputs": [],
   "source": [
    "WeightProvider = VarianceWeightsProvider(user_item_matrix)\n",
    "\n",
    "metric = WeightedCosineSimilarity(WeightProvider.getWeightsArray())\n",
    "cf = CollaborativeFilteringUserUser(user_item_matrix, metric)\n",
    "cf.calculate_similarity_matrix()\n",
    "\n",
    "cf.getSimilarityMatrix()"
   ]
  },
  {
   "cell_type": "code",
   "execution_count": null,
   "metadata": {},
   "outputs": [],
   "source": [
    "cf.getSimilarityMatrix().to_csv(\"Variance_Weighted_Cosine_collaborative_filtering_similarity_matix.csv\")"
   ]
  },
  {
   "cell_type": "code",
   "execution_count": null,
   "metadata": {},
   "outputs": [
    {
     "ename": "KeyboardInterrupt",
     "evalue": "",
     "output_type": "error",
     "traceback": [
      "\u001b[0;31m---------------------------------------------------------------------------\u001b[0m",
      "\u001b[0;31mKeyboardInterrupt\u001b[0m                         Traceback (most recent call last)",
      "Cell \u001b[0;32mIn[150], line 1\u001b[0m\n\u001b[0;32m----> 1\u001b[0m prediction_df \u001b[38;5;241m=\u001b[39m \u001b[43mcf\u001b[49m\u001b[38;5;241;43m.\u001b[39;49m\u001b[43mpredict_ratings\u001b[49m\u001b[43m(\u001b[49m\u001b[38;5;241;43m2\u001b[39;49m\u001b[43m)\u001b[49m\n\u001b[1;32m      3\u001b[0m ids \u001b[38;5;241m=\u001b[39m prediction_df\u001b[38;5;241m.\u001b[39msort_values(by\u001b[38;5;241m=\u001b[39m[\u001b[38;5;124m'\u001b[39m\u001b[38;5;124mPredictedRating\u001b[39m\u001b[38;5;124m'\u001b[39m])\u001b[38;5;241m.\u001b[39mtail(\u001b[38;5;241m10\u001b[39m)\u001b[38;5;241m.\u001b[39mindex\n\u001b[1;32m      4\u001b[0m movies \u001b[38;5;241m=\u001b[39m cf\u001b[38;5;241m.\u001b[39mgetMovies(\u001b[38;5;241m2\u001b[39m, ids)\n",
      "Cell \u001b[0;32mIn[141], line 42\u001b[0m, in \u001b[0;36mCollaborativeFilteringUserUser.predict_ratings\u001b[0;34m(self, user_id)\u001b[0m\n\u001b[1;32m     39\u001b[0m other_user_rating \u001b[38;5;241m=\u001b[39m \u001b[38;5;28mself\u001b[39m\u001b[38;5;241m.\u001b[39mdata\u001b[38;5;241m.\u001b[39mloc[other_user_id, movie_id]\n\u001b[1;32m     40\u001b[0m similarity \u001b[38;5;241m=\u001b[39m \u001b[38;5;28mself\u001b[39m\u001b[38;5;241m.\u001b[39msimilarity_matrix\u001b[38;5;241m.\u001b[39mloc[user_id , other_user_id]\n\u001b[0;32m---> 42\u001b[0m \u001b[38;5;28;01mif\u001b[39;00m \u001b[38;5;129;01mnot\u001b[39;00m \u001b[43mnp\u001b[49m\u001b[38;5;241;43m.\u001b[39;49m\u001b[43misnan\u001b[49m\u001b[43m(\u001b[49m\u001b[43mother_user_rating\u001b[49m\u001b[43m)\u001b[49m:\n\u001b[1;32m     43\u001b[0m     numerator \u001b[38;5;241m+\u001b[39m\u001b[38;5;241m=\u001b[39m similarity \u001b[38;5;241m*\u001b[39m (other_user_rating)\n\u001b[1;32m     44\u001b[0m     denominator \u001b[38;5;241m+\u001b[39m\u001b[38;5;241m=\u001b[39m \u001b[38;5;28mabs\u001b[39m(similarity)\n",
      "\u001b[0;31mKeyboardInterrupt\u001b[0m: "
     ]
    }
   ],
   "source": [
    "prediction_df = cf.predict_ratings(2)\n",
    "\n",
    "ids = prediction_df.sort_values(by=['PredictedRating']).tail(10).index\n",
    "movies = cf.getMovies(2, ids)\n",
    "\n",
    "for movie in movies:\n",
    "    print(f\"Title : {movie[2]} , MovieID : {movie[0]}, Genres : {movie[3]}\")"
   ]
  }
 ],
 "metadata": {
  "kernelspec": {
   "display_name": "base",
   "language": "python",
   "name": "python3"
  },
  "language_info": {
   "codemirror_mode": {
    "name": "ipython",
    "version": 3
   },
   "file_extension": ".py",
   "mimetype": "text/x-python",
   "name": "python",
   "nbconvert_exporter": "python",
   "pygments_lexer": "ipython3",
   "version": "3.10.13"
  }
 },
 "nbformat": 4,
 "nbformat_minor": 2
}
