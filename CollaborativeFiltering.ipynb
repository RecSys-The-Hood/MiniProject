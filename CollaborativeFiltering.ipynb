{
 "cells": [
  {
   "cell_type": "code",
   "execution_count": 83,
   "metadata": {},
   "outputs": [],
   "source": [
    "import numpy as np\n",
    "import pandas as pd\n",
    "import math"
   ]
  },
  {
   "cell_type": "code",
   "execution_count": 84,
   "metadata": {},
   "outputs": [],
   "source": [
    "class SimilarityMetric:\n",
    "\n",
    "    def calculateSimilarity(self, u, v, u_mean, v_mean):\n",
    "        pass"
   ]
  },
  {
   "cell_type": "code",
   "execution_count": 85,
   "metadata": {},
   "outputs": [],
   "source": [
    "class CosineSimilarity(SimilarityMetric):\n",
    "    def calculateSimilarity(self, u, v, u_mean, v_mean):\n",
    "        u = np.nan_to_num(u, nan=0)\n",
    "        v = np.nan_to_num(v, nan=0)\n",
    "        return np.dot(u, v) / (np.linalg.norm(u) * np.linalg.norm(v) + 1e-9)\n",
    "\n",
    "class PCCSimilarity(SimilarityMetric):\n",
    "    def calculateSimilarity(self, u, v, u_mean, v_mean):\n",
    "        return self.__pearson_correlation(u, v, u_mean, v_mean)\n",
    "    \n",
    "    def __pearson_correlation(self, x, y, x_mean, y_mean):\n",
    "\n",
    "        x_df = pd.DataFrame(x, columns = ['a'])\n",
    "        y_df = pd.DataFrame(y, columns = ['a'])\n",
    "\n",
    "        x_indices = x_df[x_df['a'].notnull()].index\n",
    "        y_indices = y_df[y_df['a'].notnull()].index\n",
    "\n",
    "        indices = x_indices.intersection(y_indices)\n",
    "\n",
    "        x_reqd = x_df.iloc[indices]\n",
    "        y_reqd = y_df.iloc[indices]\n",
    "        \n",
    "        covariance = sum((x_reqd['a'] - x_mean) * (y_reqd['a'] - y_mean))\n",
    "        std_x = math.sqrt(sum((x_reqd['a'] - x_mean)**2))\n",
    "        std_y = math.sqrt(sum((y_reqd['a'] - y_mean)**2))\n",
    "\n",
    "        if (std_x == 0 or std_y == 0):\n",
    "            return 0\n",
    "        \n",
    "        return covariance / (std_x * std_y)"
   ]
  },
  {
   "cell_type": "code",
   "execution_count": 86,
   "metadata": {},
   "outputs": [],
   "source": [
    "class CollaborativeFiltering:\n",
    "\n",
    "    def __init__(self, data, metric:SimilarityMetric):\n",
    "        \"\"\"\n",
    "        Initialize CollaborativeFiltering object with user-item rating data.\n",
    "        \n",
    "        Parameters:\n",
    "        - data: DataFrame containing user-item ratings\n",
    "        \"\"\"\n",
    "        self.data = data\n",
    "        self.similarity_matrix = None\n",
    "        self.metric = metric\n",
    "        self.movies = pd.read_csv(\"movies.csv\")\n",
    "        self.movies.set_index('MovieID')\n",
    "\n",
    "    def calculate_similarity_matrix(self):\n",
    "        pass\n",
    "\n",
    "    def predict_ratings(self, user_id):\n",
    "        pass\n",
    "    \n",
    "    def getMovies(self, user_id, movie_id_list):\n",
    "\n",
    "        recommendations = []\n",
    "    \n",
    "        for i in movie_id_list:\n",
    "\n",
    "            user = pd.DataFrame(self.data.loc[user_id], index = self.data.columns, columns = ['a'])\n",
    "            rating = user.loc[i]\n",
    "            movie = self.movies.loc[i]\n",
    "            recommendations.append([i, rating, movie['Title'], movie['Genres']])\n",
    "\n",
    "        return recommendations\n",
    "    \n",
    "    def getSimilarityMatrix(self):\n",
    "        return self.similarity_matrix"
   ]
  },
  {
   "cell_type": "code",
   "execution_count": 87,
   "metadata": {},
   "outputs": [],
   "source": [
    "class CollaborativeFilteringItemItem(CollaborativeFiltering):\n",
    "\n",
    "    def __init__(self, data, metric:SimilarityMetric):\n",
    "        super().__init__(data, metric)\n",
    "        self.means = self.data.mean(axis=0)\n",
    "    \n",
    "    def calculate_similarity_matrix(self):\n",
    "        \n",
    "        # user_item_matrix = self.train_data.pivot(index='UserID', columns='MovieID', values='Rating').fillna(0)\n",
    "        \n",
    "        n_movies = self.data.shape[1]\n",
    "        similarity_matrix = np.zeros((n_movies, n_movies))\n",
    "        for i in range(n_movies):\n",
    "            for j in range(i+1):\n",
    "                temp = self.metric.calculateSimilarity(self.data.iloc[:, i], self.data.iloc[:, j], self.means[self.data.columns[i]], self.means[self.data.columns[j]])\n",
    "                similarity_matrix[i, j] = temp\n",
    "                similarity_matrix[j, i] = temp\n",
    "\n",
    "        self.similarity_matrix = pd.DataFrame(similarity_matrix, index=self.data.columns, columns=self.data.columns)\n",
    "\n",
    "    def predict_ratings(self, user_id):\n",
    "        \"\"\"\n",
    "        Predict ratings for items for a given user.\n",
    "\n",
    "        Parameters:\n",
    "        - user_id: ID of the user for whom to predict ratings\n",
    "\n",
    "        Returns:\n",
    "        - DataFrame containing predicted ratings for each item\n",
    "        \"\"\"\n",
    "\n",
    "        user_ratings = self.data.loc[user_id]\n",
    "        predicted_ratings = pd.DataFrame(index=self.data.columns, columns=['PredictedRating'])\n",
    "\n",
    "        for movie_id in predicted_ratings.index:\n",
    "            numerator = 0\n",
    "            denominator = 0\n",
    "\n",
    "            for other_movie_id in predicted_ratings.index:\n",
    "                if (other_movie_id != movie_id):\n",
    "                    similarity = self.similarity_matrix.loc[movie_id, other_movie_id]\n",
    "                    other_movie_rating = user_ratings[other_movie_id]\n",
    "\n",
    "                    if not np.isnan(other_movie_rating):\n",
    "                        numerator += similarity * (other_movie_rating - self.means[other_movie_id]) \n",
    "                        denominator += abs(similarity)\n",
    "            \n",
    "            predicted_ratings.loc[movie_id, 'PredictedRating'] = numerator / (denominator + 1e-9) + self.means[movie_id]\n",
    "            \n",
    "        return predicted_ratings\n",
    "        "
   ]
  },
  {
   "cell_type": "code",
   "execution_count": 88,
   "metadata": {},
   "outputs": [
    {
     "name": "stderr",
     "output_type": "stream",
     "text": [
      "/tmp/ipykernel_9514/103287248.py:1: DtypeWarning: Columns (26) have mixed types. Specify dtype option on import or set low_memory=False.\n",
      "  data=pd.read_csv(\"EncodedCombined.csv\")\n"
     ]
    }
   ],
   "source": [
    "data=pd.read_csv(\"EncodedCombined.csv\")\n",
    "\n",
    "user_item_matrix = data.pivot(index='UserID', columns='MovieID', values='Rating')\n",
    "user_item_matrix_new = user_item_matrix"
   ]
  },
  {
   "cell_type": "code",
   "execution_count": 89,
   "metadata": {},
   "outputs": [],
   "source": [
    "# metric = CosineSimilarity()\n",
    "# # Create CollaborativeFiltering instance\n",
    "# cf = CollaborativeFilteringItemItem(user_item_matrix_new, metric)\n",
    "\n",
    "# cf.calculate_similarity_matrix()\n",
    "\n",
    "# cf.getSimilarityMatrix()"
   ]
  },
  {
   "cell_type": "code",
   "execution_count": 90,
   "metadata": {},
   "outputs": [],
   "source": [
    "# prediction_df = cf.predict_ratings(2)\n",
    "\n",
    "# ids = prediction_df.sort_values(by=['PredictedRating'].tail(10)).index\n",
    "# movies = cf.getMovies(2, ids)\n",
    "\n",
    "# for movie in movies:\n",
    "#     print(f\"Title : {movie[2]} , MovieID : {movie[0]} , Rating : {movie[1]} , Genres : {movie[3]}\")"
   ]
  },
  {
   "cell_type": "markdown",
   "metadata": {},
   "source": [
    "        PredictedRating\n",
    "\n",
    "MovieID             \n",
    "\n",
    "1316            4.28598\n",
    "\n",
    "3290           4.347007\n",
    "\n",
    "1709           4.347007\n",
    "\n",
    "3209           4.384623\n",
    "\n",
    "1815           4.563809\n",
    "\n",
    "133            4.676238\n",
    "\n",
    "642            4.854247\n",
    "\n",
    "127            4.999999\n",
    "\n",
    "3323           4.999999\n",
    "\n",
    "3382           4.999999"
   ]
  },
  {
   "cell_type": "code",
   "execution_count": 91,
   "metadata": {},
   "outputs": [
    {
     "ename": "KeyboardInterrupt",
     "evalue": "",
     "output_type": "error",
     "traceback": [
      "\u001b[0;31m---------------------------------------------------------------------------\u001b[0m",
      "\u001b[0;31mKeyboardInterrupt\u001b[0m                         Traceback (most recent call last)",
      "Cell \u001b[0;32mIn[91], line 4\u001b[0m\n\u001b[1;32m      1\u001b[0m metric \u001b[38;5;241m=\u001b[39m PCCSimilarity()\n\u001b[1;32m      2\u001b[0m cf \u001b[38;5;241m=\u001b[39m CollaborativeFilteringItemItem(user_item_matrix_new, metric)\n\u001b[0;32m----> 4\u001b[0m \u001b[43mcf\u001b[49m\u001b[38;5;241;43m.\u001b[39;49m\u001b[43mcalculate_similarity_matrix\u001b[49m\u001b[43m(\u001b[49m\u001b[43m)\u001b[49m\n\u001b[1;32m      5\u001b[0m cf\u001b[38;5;241m.\u001b[39mgetSimilarityMatrix()\n\u001b[1;32m      7\u001b[0m \u001b[38;5;66;03m# Evaluate the model\u001b[39;00m\n\u001b[1;32m      8\u001b[0m \u001b[38;5;66;03m# mse = cf.evaluate()\u001b[39;00m\n\u001b[1;32m      9\u001b[0m \u001b[38;5;66;03m# print(\"Mean Squared Error:\", mse)\u001b[39;00m\n",
      "Cell \u001b[0;32mIn[87], line 15\u001b[0m, in \u001b[0;36mCollaborativeFilteringItemItem.calculate_similarity_matrix\u001b[0;34m(self)\u001b[0m\n\u001b[1;32m     13\u001b[0m \u001b[38;5;28;01mfor\u001b[39;00m i \u001b[38;5;129;01min\u001b[39;00m \u001b[38;5;28mrange\u001b[39m(n_movies):\n\u001b[1;32m     14\u001b[0m     \u001b[38;5;28;01mfor\u001b[39;00m j \u001b[38;5;129;01min\u001b[39;00m \u001b[38;5;28mrange\u001b[39m(i\u001b[38;5;241m+\u001b[39m\u001b[38;5;241m1\u001b[39m):\n\u001b[0;32m---> 15\u001b[0m         temp \u001b[38;5;241m=\u001b[39m \u001b[38;5;28;43mself\u001b[39;49m\u001b[38;5;241;43m.\u001b[39;49m\u001b[43mmetric\u001b[49m\u001b[38;5;241;43m.\u001b[39;49m\u001b[43mcalculateSimilarity\u001b[49m\u001b[43m(\u001b[49m\u001b[38;5;28;43mself\u001b[39;49m\u001b[38;5;241;43m.\u001b[39;49m\u001b[43mdata\u001b[49m\u001b[38;5;241;43m.\u001b[39;49m\u001b[43miloc\u001b[49m\u001b[43m[\u001b[49m\u001b[43m:\u001b[49m\u001b[43m,\u001b[49m\u001b[43m \u001b[49m\u001b[43mi\u001b[49m\u001b[43m]\u001b[49m\u001b[43m,\u001b[49m\u001b[43m \u001b[49m\u001b[38;5;28;43mself\u001b[39;49m\u001b[38;5;241;43m.\u001b[39;49m\u001b[43mdata\u001b[49m\u001b[38;5;241;43m.\u001b[39;49m\u001b[43miloc\u001b[49m\u001b[43m[\u001b[49m\u001b[43m:\u001b[49m\u001b[43m,\u001b[49m\u001b[43m \u001b[49m\u001b[43mj\u001b[49m\u001b[43m]\u001b[49m\u001b[43m,\u001b[49m\u001b[43m \u001b[49m\u001b[38;5;28;43mself\u001b[39;49m\u001b[38;5;241;43m.\u001b[39;49m\u001b[43mmeans\u001b[49m\u001b[43m[\u001b[49m\u001b[38;5;28;43mself\u001b[39;49m\u001b[38;5;241;43m.\u001b[39;49m\u001b[43mdata\u001b[49m\u001b[38;5;241;43m.\u001b[39;49m\u001b[43mcolumns\u001b[49m\u001b[43m[\u001b[49m\u001b[43mi\u001b[49m\u001b[43m]\u001b[49m\u001b[43m]\u001b[49m\u001b[43m,\u001b[49m\u001b[43m \u001b[49m\u001b[38;5;28;43mself\u001b[39;49m\u001b[38;5;241;43m.\u001b[39;49m\u001b[43mmeans\u001b[49m\u001b[43m[\u001b[49m\u001b[38;5;28;43mself\u001b[39;49m\u001b[38;5;241;43m.\u001b[39;49m\u001b[43mdata\u001b[49m\u001b[38;5;241;43m.\u001b[39;49m\u001b[43mcolumns\u001b[49m\u001b[43m[\u001b[49m\u001b[43mj\u001b[49m\u001b[43m]\u001b[49m\u001b[43m]\u001b[49m\u001b[43m)\u001b[49m\n\u001b[1;32m     16\u001b[0m         similarity_matrix[i, j] \u001b[38;5;241m=\u001b[39m temp\n\u001b[1;32m     17\u001b[0m         similarity_matrix[j, i] \u001b[38;5;241m=\u001b[39m temp\n",
      "Cell \u001b[0;32mIn[85], line 9\u001b[0m, in \u001b[0;36mPCCSimilarity.calculateSimilarity\u001b[0;34m(self, u, v, u_mean, v_mean)\u001b[0m\n\u001b[1;32m      8\u001b[0m \u001b[38;5;28;01mdef\u001b[39;00m \u001b[38;5;21mcalculateSimilarity\u001b[39m(\u001b[38;5;28mself\u001b[39m, u, v, u_mean, v_mean):\n\u001b[0;32m----> 9\u001b[0m     \u001b[38;5;28;01mreturn\u001b[39;00m \u001b[38;5;28;43mself\u001b[39;49m\u001b[38;5;241;43m.\u001b[39;49m\u001b[43m__pearson_correlation\u001b[49m\u001b[43m(\u001b[49m\u001b[43mu\u001b[49m\u001b[43m,\u001b[49m\u001b[43m \u001b[49m\u001b[43mv\u001b[49m\u001b[43m,\u001b[49m\u001b[43m \u001b[49m\u001b[43mu_mean\u001b[49m\u001b[43m,\u001b[49m\u001b[43m \u001b[49m\u001b[43mv_mean\u001b[49m\u001b[43m)\u001b[49m\n",
      "Cell \u001b[0;32mIn[85], line 13\u001b[0m, in \u001b[0;36mPCCSimilarity.__pearson_correlation\u001b[0;34m(self, x, y, x_mean, y_mean)\u001b[0m\n\u001b[1;32m     11\u001b[0m \u001b[38;5;28;01mdef\u001b[39;00m \u001b[38;5;21m__pearson_correlation\u001b[39m(\u001b[38;5;28mself\u001b[39m, x, y, x_mean, y_mean):\n\u001b[0;32m---> 13\u001b[0m     x_df \u001b[38;5;241m=\u001b[39m \u001b[43mpd\u001b[49m\u001b[38;5;241;43m.\u001b[39;49m\u001b[43mDataFrame\u001b[49m\u001b[43m(\u001b[49m\u001b[43mx\u001b[49m\u001b[43m,\u001b[49m\u001b[43m \u001b[49m\u001b[43mcolumns\u001b[49m\u001b[43m \u001b[49m\u001b[38;5;241;43m=\u001b[39;49m\u001b[43m \u001b[49m\u001b[43m[\u001b[49m\u001b[38;5;124;43m'\u001b[39;49m\u001b[38;5;124;43ma\u001b[39;49m\u001b[38;5;124;43m'\u001b[39;49m\u001b[43m]\u001b[49m\u001b[43m)\u001b[49m\n\u001b[1;32m     14\u001b[0m     y_df \u001b[38;5;241m=\u001b[39m pd\u001b[38;5;241m.\u001b[39mDataFrame(y, columns \u001b[38;5;241m=\u001b[39m [\u001b[38;5;124m'\u001b[39m\u001b[38;5;124ma\u001b[39m\u001b[38;5;124m'\u001b[39m])\n\u001b[1;32m     16\u001b[0m     x_indices \u001b[38;5;241m=\u001b[39m x_df[x_df[\u001b[38;5;124m'\u001b[39m\u001b[38;5;124ma\u001b[39m\u001b[38;5;124m'\u001b[39m]\u001b[38;5;241m.\u001b[39mnotnull()]\u001b[38;5;241m.\u001b[39mindex\n",
      "File \u001b[0;32m~/anaconda3/lib/python3.10/site-packages/pandas/core/frame.py:711\u001b[0m, in \u001b[0;36mDataFrame.__init__\u001b[0;34m(self, data, index, columns, dtype, copy)\u001b[0m\n\u001b[1;32m    701\u001b[0m     mgr \u001b[38;5;241m=\u001b[39m rec_array_to_mgr(\n\u001b[1;32m    702\u001b[0m         data,\n\u001b[1;32m    703\u001b[0m         index,\n\u001b[0;32m   (...)\u001b[0m\n\u001b[1;32m    707\u001b[0m         typ\u001b[38;5;241m=\u001b[39mmanager,\n\u001b[1;32m    708\u001b[0m     )\n\u001b[1;32m    709\u001b[0m \u001b[38;5;28;01melif\u001b[39;00m \u001b[38;5;28mgetattr\u001b[39m(data, \u001b[38;5;124m\"\u001b[39m\u001b[38;5;124mname\u001b[39m\u001b[38;5;124m\"\u001b[39m, \u001b[38;5;28;01mNone\u001b[39;00m) \u001b[38;5;129;01mis\u001b[39;00m \u001b[38;5;129;01mnot\u001b[39;00m \u001b[38;5;28;01mNone\u001b[39;00m:\n\u001b[1;32m    710\u001b[0m     \u001b[38;5;66;03m# i.e. Series/Index with non-None name\u001b[39;00m\n\u001b[0;32m--> 711\u001b[0m     mgr \u001b[38;5;241m=\u001b[39m \u001b[43mdict_to_mgr\u001b[49m\u001b[43m(\u001b[49m\n\u001b[1;32m    712\u001b[0m \u001b[43m        \u001b[49m\u001b[38;5;66;43;03m# error: Item \"ndarray\" of \"Union[ndarray, Series, Index]\" has no\u001b[39;49;00m\n\u001b[1;32m    713\u001b[0m \u001b[43m        \u001b[49m\u001b[38;5;66;43;03m# attribute \"name\"\u001b[39;49;00m\n\u001b[1;32m    714\u001b[0m \u001b[43m        \u001b[49m\u001b[43m{\u001b[49m\u001b[43mdata\u001b[49m\u001b[38;5;241;43m.\u001b[39;49m\u001b[43mname\u001b[49m\u001b[43m:\u001b[49m\u001b[43m \u001b[49m\u001b[43mdata\u001b[49m\u001b[43m}\u001b[49m\u001b[43m,\u001b[49m\u001b[43m  \u001b[49m\u001b[38;5;66;43;03m# type: ignore[union-attr]\u001b[39;49;00m\n\u001b[1;32m    715\u001b[0m \u001b[43m        \u001b[49m\u001b[43mindex\u001b[49m\u001b[43m,\u001b[49m\n\u001b[1;32m    716\u001b[0m \u001b[43m        \u001b[49m\u001b[43mcolumns\u001b[49m\u001b[43m,\u001b[49m\n\u001b[1;32m    717\u001b[0m \u001b[43m        \u001b[49m\u001b[43mdtype\u001b[49m\u001b[38;5;241;43m=\u001b[39;49m\u001b[43mdtype\u001b[49m\u001b[43m,\u001b[49m\n\u001b[1;32m    718\u001b[0m \u001b[43m        \u001b[49m\u001b[43mtyp\u001b[49m\u001b[38;5;241;43m=\u001b[39;49m\u001b[43mmanager\u001b[49m\u001b[43m,\u001b[49m\n\u001b[1;32m    719\u001b[0m \u001b[43m    \u001b[49m\u001b[43m)\u001b[49m\n\u001b[1;32m    720\u001b[0m \u001b[38;5;28;01melse\u001b[39;00m:\n\u001b[1;32m    721\u001b[0m     mgr \u001b[38;5;241m=\u001b[39m ndarray_to_mgr(\n\u001b[1;32m    722\u001b[0m         data,\n\u001b[1;32m    723\u001b[0m         index,\n\u001b[0;32m   (...)\u001b[0m\n\u001b[1;32m    727\u001b[0m         typ\u001b[38;5;241m=\u001b[39mmanager,\n\u001b[1;32m    728\u001b[0m     )\n",
      "File \u001b[0;32m~/anaconda3/lib/python3.10/site-packages/pandas/core/internals/construction.py:443\u001b[0m, in \u001b[0;36mdict_to_mgr\u001b[0;34m(data, index, columns, dtype, typ, copy)\u001b[0m\n\u001b[1;32m    440\u001b[0m \u001b[38;5;28;01mif\u001b[39;00m columns \u001b[38;5;129;01mis\u001b[39;00m \u001b[38;5;129;01mnot\u001b[39;00m \u001b[38;5;28;01mNone\u001b[39;00m:\n\u001b[1;32m    441\u001b[0m     \u001b[38;5;28;01mfrom\u001b[39;00m \u001b[38;5;21;01mpandas\u001b[39;00m\u001b[38;5;21;01m.\u001b[39;00m\u001b[38;5;21;01mcore\u001b[39;00m\u001b[38;5;21;01m.\u001b[39;00m\u001b[38;5;21;01mseries\u001b[39;00m \u001b[38;5;28;01mimport\u001b[39;00m Series\n\u001b[0;32m--> 443\u001b[0m     arrays \u001b[38;5;241m=\u001b[39m \u001b[43mSeries\u001b[49m\u001b[43m(\u001b[49m\u001b[43mdata\u001b[49m\u001b[43m,\u001b[49m\u001b[43m \u001b[49m\u001b[43mindex\u001b[49m\u001b[38;5;241;43m=\u001b[39;49m\u001b[43mcolumns\u001b[49m\u001b[43m,\u001b[49m\u001b[43m \u001b[49m\u001b[43mdtype\u001b[49m\u001b[38;5;241;43m=\u001b[39;49m\u001b[38;5;28;43mobject\u001b[39;49m\u001b[43m)\u001b[49m\n\u001b[1;32m    444\u001b[0m     missing \u001b[38;5;241m=\u001b[39m arrays\u001b[38;5;241m.\u001b[39misna()\n\u001b[1;32m    445\u001b[0m     \u001b[38;5;28;01mif\u001b[39;00m index \u001b[38;5;129;01mis\u001b[39;00m \u001b[38;5;28;01mNone\u001b[39;00m:\n\u001b[1;32m    446\u001b[0m         \u001b[38;5;66;03m# GH10856\u001b[39;00m\n\u001b[1;32m    447\u001b[0m         \u001b[38;5;66;03m# raise ValueError if only scalars in dict\u001b[39;00m\n",
      "File \u001b[0;32m~/anaconda3/lib/python3.10/site-packages/pandas/core/series.py:399\u001b[0m, in \u001b[0;36mSeries.__init__\u001b[0;34m(self, data, index, dtype, name, copy, fastpath)\u001b[0m\n\u001b[1;32m    395\u001b[0m     \u001b[38;5;66;03m# uncomment the line below when removing the FutureWarning\u001b[39;00m\n\u001b[1;32m    396\u001b[0m     \u001b[38;5;66;03m# dtype = np.dtype(object)\u001b[39;00m\n\u001b[1;32m    398\u001b[0m \u001b[38;5;28;01mif\u001b[39;00m index \u001b[38;5;129;01mis\u001b[39;00m \u001b[38;5;129;01mnot\u001b[39;00m \u001b[38;5;28;01mNone\u001b[39;00m:\n\u001b[0;32m--> 399\u001b[0m     index \u001b[38;5;241m=\u001b[39m \u001b[43mensure_index\u001b[49m\u001b[43m(\u001b[49m\u001b[43mindex\u001b[49m\u001b[43m)\u001b[49m\n\u001b[1;32m    401\u001b[0m \u001b[38;5;28;01mif\u001b[39;00m data \u001b[38;5;129;01mis\u001b[39;00m \u001b[38;5;28;01mNone\u001b[39;00m:\n\u001b[1;32m    402\u001b[0m     data \u001b[38;5;241m=\u001b[39m {}\n",
      "File \u001b[0;32m~/anaconda3/lib/python3.10/site-packages/pandas/core/indexes/base.py:7374\u001b[0m, in \u001b[0;36mensure_index\u001b[0;34m(index_like, copy)\u001b[0m\n\u001b[1;32m   7372\u001b[0m         \u001b[38;5;28;01mreturn\u001b[39;00m MultiIndex\u001b[38;5;241m.\u001b[39mfrom_arrays(index_like)\n\u001b[1;32m   7373\u001b[0m     \u001b[38;5;28;01melse\u001b[39;00m:\n\u001b[0;32m-> 7374\u001b[0m         \u001b[38;5;28;01mreturn\u001b[39;00m \u001b[43mIndex\u001b[49m\u001b[38;5;241;43m.\u001b[39;49m\u001b[43m_with_infer\u001b[49m\u001b[43m(\u001b[49m\u001b[43mindex_like\u001b[49m\u001b[43m,\u001b[49m\u001b[43m \u001b[49m\u001b[43mcopy\u001b[49m\u001b[38;5;241;43m=\u001b[39;49m\u001b[43mcopy\u001b[49m\u001b[43m,\u001b[49m\u001b[43m \u001b[49m\u001b[43mtupleize_cols\u001b[49m\u001b[38;5;241;43m=\u001b[39;49m\u001b[38;5;28;43;01mFalse\u001b[39;49;00m\u001b[43m)\u001b[49m\n\u001b[1;32m   7375\u001b[0m \u001b[38;5;28;01melse\u001b[39;00m:\n\u001b[1;32m   7376\u001b[0m     \u001b[38;5;28;01mreturn\u001b[39;00m Index\u001b[38;5;241m.\u001b[39m_with_infer(index_like, copy\u001b[38;5;241m=\u001b[39mcopy)\n",
      "File \u001b[0;32m~/anaconda3/lib/python3.10/site-packages/pandas/core/indexes/base.py:717\u001b[0m, in \u001b[0;36mIndex._with_infer\u001b[0;34m(cls, *args, **kwargs)\u001b[0m\n\u001b[1;32m    715\u001b[0m \u001b[38;5;28;01mwith\u001b[39;00m warnings\u001b[38;5;241m.\u001b[39mcatch_warnings():\n\u001b[1;32m    716\u001b[0m     warnings\u001b[38;5;241m.\u001b[39mfilterwarnings(\u001b[38;5;124m\"\u001b[39m\u001b[38;5;124mignore\u001b[39m\u001b[38;5;124m\"\u001b[39m, \u001b[38;5;124m\"\u001b[39m\u001b[38;5;124m.*the Index constructor\u001b[39m\u001b[38;5;124m\"\u001b[39m, \u001b[38;5;167;01mFutureWarning\u001b[39;00m)\n\u001b[0;32m--> 717\u001b[0m     result \u001b[38;5;241m=\u001b[39m \u001b[38;5;28;43mcls\u001b[39;49m\u001b[43m(\u001b[49m\u001b[38;5;241;43m*\u001b[39;49m\u001b[43margs\u001b[49m\u001b[43m,\u001b[49m\u001b[43m \u001b[49m\u001b[38;5;241;43m*\u001b[39;49m\u001b[38;5;241;43m*\u001b[39;49m\u001b[43mkwargs\u001b[49m\u001b[43m)\u001b[49m\n\u001b[1;32m    719\u001b[0m \u001b[38;5;28;01mif\u001b[39;00m result\u001b[38;5;241m.\u001b[39mdtype \u001b[38;5;241m==\u001b[39m _dtype_obj \u001b[38;5;129;01mand\u001b[39;00m \u001b[38;5;129;01mnot\u001b[39;00m result\u001b[38;5;241m.\u001b[39m_is_multi:\n\u001b[1;32m    720\u001b[0m     \u001b[38;5;66;03m# error: Argument 1 to \"maybe_convert_objects\" has incompatible type\u001b[39;00m\n\u001b[1;32m    721\u001b[0m     \u001b[38;5;66;03m# \"Union[ExtensionArray, ndarray[Any, Any]]\"; expected\u001b[39;00m\n\u001b[1;32m    722\u001b[0m     \u001b[38;5;66;03m# \"ndarray[Any, Any]\"\u001b[39;00m\n\u001b[1;32m    723\u001b[0m     values \u001b[38;5;241m=\u001b[39m lib\u001b[38;5;241m.\u001b[39mmaybe_convert_objects(result\u001b[38;5;241m.\u001b[39m_values)  \u001b[38;5;66;03m# type: ignore[arg-type]\u001b[39;00m\n",
      "File \u001b[0;32m~/anaconda3/lib/python3.10/site-packages/pandas/core/indexes/base.py:573\u001b[0m, in \u001b[0;36mIndex.__new__\u001b[0;34m(cls, data, dtype, copy, name, tupleize_cols, **kwargs)\u001b[0m\n\u001b[1;32m    569\u001b[0m     subarr \u001b[38;5;241m=\u001b[39m _maybe_cast_data_without_dtype(\n\u001b[1;32m    570\u001b[0m         subarr, cast_numeric_deprecated\u001b[38;5;241m=\u001b[39m\u001b[38;5;28;01mFalse\u001b[39;00m\n\u001b[1;32m    571\u001b[0m     )\n\u001b[1;32m    572\u001b[0m     dtype \u001b[38;5;241m=\u001b[39m subarr\u001b[38;5;241m.\u001b[39mdtype\n\u001b[0;32m--> 573\u001b[0m \u001b[38;5;28;01mreturn\u001b[39;00m \u001b[43mIndex\u001b[49m\u001b[43m(\u001b[49m\u001b[43msubarr\u001b[49m\u001b[43m,\u001b[49m\u001b[43m \u001b[49m\u001b[43mdtype\u001b[49m\u001b[38;5;241;43m=\u001b[39;49m\u001b[43mdtype\u001b[49m\u001b[43m,\u001b[49m\u001b[43m \u001b[49m\u001b[43mcopy\u001b[49m\u001b[38;5;241;43m=\u001b[39;49m\u001b[43mcopy\u001b[49m\u001b[43m,\u001b[49m\u001b[43m \u001b[49m\u001b[43mname\u001b[49m\u001b[38;5;241;43m=\u001b[39;49m\u001b[43mname\u001b[49m\u001b[43m,\u001b[49m\u001b[43m \u001b[49m\u001b[38;5;241;43m*\u001b[39;49m\u001b[38;5;241;43m*\u001b[39;49m\u001b[43mkwargs\u001b[49m\u001b[43m)\u001b[49m\n",
      "File \u001b[0;32m~/anaconda3/lib/python3.10/site-packages/pandas/core/indexes/base.py:540\u001b[0m, in \u001b[0;36mIndex.__new__\u001b[0;34m(cls, data, dtype, copy, name, tupleize_cols, **kwargs)\u001b[0m\n\u001b[1;32m    537\u001b[0m         \u001b[38;5;28;01mif\u001b[39;00m kwargs:\n\u001b[1;32m    538\u001b[0m             \u001b[38;5;28;01mreturn\u001b[39;00m \u001b[38;5;28mcls\u001b[39m(arr, dtype, copy\u001b[38;5;241m=\u001b[39mcopy, name\u001b[38;5;241m=\u001b[39mname, \u001b[38;5;241m*\u001b[39m\u001b[38;5;241m*\u001b[39mkwargs)\n\u001b[0;32m--> 540\u001b[0m klass \u001b[38;5;241m=\u001b[39m \u001b[38;5;28;43mcls\u001b[39;49m\u001b[38;5;241;43m.\u001b[39;49m\u001b[43m_dtype_to_subclass\u001b[49m\u001b[43m(\u001b[49m\u001b[43marr\u001b[49m\u001b[38;5;241;43m.\u001b[39;49m\u001b[43mdtype\u001b[49m\u001b[43m)\u001b[49m\n\u001b[1;32m    541\u001b[0m arr \u001b[38;5;241m=\u001b[39m klass\u001b[38;5;241m.\u001b[39m_ensure_array(arr, dtype, copy)\n\u001b[1;32m    542\u001b[0m disallow_kwargs(kwargs)\n",
      "File \u001b[0;32m~/anaconda3/lib/python3.10/site-packages/pandas/core/indexes/base.py:643\u001b[0m, in \u001b[0;36mIndex._dtype_to_subclass\u001b[0;34m(cls, dtype)\u001b[0m\n\u001b[1;32m    640\u001b[0m     \u001b[38;5;28;01mfrom\u001b[39;00m \u001b[38;5;21;01mpandas\u001b[39;00m\u001b[38;5;21;01m.\u001b[39;00m\u001b[38;5;21;01mcore\u001b[39;00m\u001b[38;5;21;01m.\u001b[39;00m\u001b[38;5;21;01mapi\u001b[39;00m \u001b[38;5;28;01mimport\u001b[39;00m UInt64Index\n\u001b[1;32m    642\u001b[0m     \u001b[38;5;28;01mreturn\u001b[39;00m UInt64Index\n\u001b[0;32m--> 643\u001b[0m \u001b[38;5;28;01melif\u001b[39;00m \u001b[43mis_signed_integer_dtype\u001b[49m\u001b[43m(\u001b[49m\u001b[43mdtype\u001b[49m\u001b[43m)\u001b[49m:\n\u001b[1;32m    644\u001b[0m     \u001b[38;5;28;01mfrom\u001b[39;00m \u001b[38;5;21;01mpandas\u001b[39;00m\u001b[38;5;21;01m.\u001b[39;00m\u001b[38;5;21;01mcore\u001b[39;00m\u001b[38;5;21;01m.\u001b[39;00m\u001b[38;5;21;01mapi\u001b[39;00m \u001b[38;5;28;01mimport\u001b[39;00m Int64Index\n\u001b[1;32m    646\u001b[0m     \u001b[38;5;28;01mreturn\u001b[39;00m Int64Index\n",
      "File \u001b[0;32m~/anaconda3/lib/python3.10/site-packages/pandas/core/dtypes/common.py:787\u001b[0m, in \u001b[0;36mis_signed_integer_dtype\u001b[0;34m(arr_or_dtype)\u001b[0m\n\u001b[1;32m    736\u001b[0m \u001b[38;5;28;01mdef\u001b[39;00m \u001b[38;5;21mis_signed_integer_dtype\u001b[39m(arr_or_dtype) \u001b[38;5;241m-\u001b[39m\u001b[38;5;241m>\u001b[39m \u001b[38;5;28mbool\u001b[39m:\n\u001b[1;32m    737\u001b[0m \u001b[38;5;250m    \u001b[39m\u001b[38;5;124;03m\"\"\"\u001b[39;00m\n\u001b[1;32m    738\u001b[0m \u001b[38;5;124;03m    Check whether the provided array or dtype is of a signed integer dtype.\u001b[39;00m\n\u001b[1;32m    739\u001b[0m \n\u001b[0;32m   (...)\u001b[0m\n\u001b[1;32m    785\u001b[0m \u001b[38;5;124;03m    False\u001b[39;00m\n\u001b[1;32m    786\u001b[0m \u001b[38;5;124;03m    \"\"\"\u001b[39;00m\n\u001b[0;32m--> 787\u001b[0m     \u001b[38;5;28;01mreturn\u001b[39;00m \u001b[43m_is_dtype_type\u001b[49m\u001b[43m(\u001b[49m\u001b[43marr_or_dtype\u001b[49m\u001b[43m,\u001b[49m\u001b[43m \u001b[49m\u001b[43mclasses_and_not_datetimelike\u001b[49m\u001b[43m(\u001b[49m\u001b[43mnp\u001b[49m\u001b[38;5;241;43m.\u001b[39;49m\u001b[43msignedinteger\u001b[49m\u001b[43m)\u001b[49m\u001b[43m)\u001b[49m\n",
      "File \u001b[0;32m~/anaconda3/lib/python3.10/site-packages/pandas/core/dtypes/common.py:1605\u001b[0m, in \u001b[0;36m_is_dtype_type\u001b[0;34m(arr_or_dtype, condition)\u001b[0m\n\u001b[1;32m   1591\u001b[0m \u001b[38;5;28;01mdef\u001b[39;00m \u001b[38;5;21m_is_dtype_type\u001b[39m(arr_or_dtype, condition) \u001b[38;5;241m-\u001b[39m\u001b[38;5;241m>\u001b[39m \u001b[38;5;28mbool\u001b[39m:\n\u001b[1;32m   1592\u001b[0m \u001b[38;5;250m    \u001b[39m\u001b[38;5;124;03m\"\"\"\u001b[39;00m\n\u001b[1;32m   1593\u001b[0m \u001b[38;5;124;03m    Return true if the condition is satisfied for the arr_or_dtype.\u001b[39;00m\n\u001b[1;32m   1594\u001b[0m \n\u001b[0;32m   (...)\u001b[0m\n\u001b[1;32m   1603\u001b[0m \u001b[38;5;124;03m    bool : if the condition is satisfied for the arr_or_dtype\u001b[39;00m\n\u001b[1;32m   1604\u001b[0m \u001b[38;5;124;03m    \"\"\"\u001b[39;00m\n\u001b[0;32m-> 1605\u001b[0m     \u001b[38;5;28;01mif\u001b[39;00m arr_or_dtype \u001b[38;5;129;01mis\u001b[39;00m \u001b[38;5;28;01mNone\u001b[39;00m:\n\u001b[1;32m   1606\u001b[0m         \u001b[38;5;28;01mreturn\u001b[39;00m condition(\u001b[38;5;28mtype\u001b[39m(\u001b[38;5;28;01mNone\u001b[39;00m))\n\u001b[1;32m   1608\u001b[0m     \u001b[38;5;66;03m# fastpath\u001b[39;00m\n",
      "\u001b[0;31mKeyboardInterrupt\u001b[0m: "
     ]
    }
   ],
   "source": [
    "metric = PCCSimilarity()\n",
    "cf = CollaborativeFilteringItemItem(user_item_matrix_new, metric)\n",
    "\n",
    "cf.calculate_similarity_matrix()\n",
    "cf.getSimilarityMatrix()\n",
    "\n",
    "# Evaluate the model\n",
    "# mse = cf.evaluate()\n",
    "# print(\"Mean Squared Error:\", mse)"
   ]
  },
  {
   "cell_type": "code",
   "execution_count": null,
   "metadata": {},
   "outputs": [],
   "source": [
    "cf.getSimilarityMatrix().to_csv(\"Item_Item_PCC_collaborative_filtering_similarity_matix.csv\")"
   ]
  },
  {
   "cell_type": "code",
   "execution_count": null,
   "metadata": {},
   "outputs": [
    {
     "name": "stdout",
     "output_type": "stream",
     "text": [
      "Title : Beautiful People (1999) , MovieID : 3233 , Rating : a    NaN\n",
      "Name: 3233, dtype: object , Genres : Comedy\n",
      "Title : Two Family House (2000) , MovieID : 3881 , Rating : a    NaN\n",
      "Name: 3881, dtype: object , Genres : Drama\n",
      "Title : Ed's Next Move (1996) , MovieID : 989 , Rating : a    NaN\n",
      "Name: 989, dtype: object , Genres : Comedy\n",
      "Title : Passion in the Desert (1998) , MovieID : 1830 , Rating : a    NaN\n",
      "Name: 1830, dtype: object , Genres : Adventure|Drama\n",
      "Title : Old Lady Who Walked in the Sea, The (Vieille qui marchait dans la mer, La) (1991) , MovieID : 787 , Rating : a    NaN\n",
      "Name: 787, dtype: object , Genres : Comedy\n",
      "Title : Perils of Pauline, The (1947) , MovieID : 3280 , Rating : a    NaN\n",
      "Name: 3280, dtype: object , Genres : Comedy\n",
      "Title : American Pop (1981) , MovieID : 3656 , Rating : a    NaN\n",
      "Name: 3656, dtype: object , Genres : Animation|Musical\n",
      "Title : Eraserhead (1977) , MovieID : 3607 , Rating : a    NaN\n",
      "Name: 3607, dtype: object , Genres : Drama|Horror\n",
      "Title : Cup, The (Phrpa) (1999) , MovieID : 3172 , Rating : a    NaN\n",
      "Name: 3172, dtype: object , Genres : Comedy\n",
      "Title : Guess Who's Coming to Dinner (1967) , MovieID : 3382 , Rating : a    NaN\n",
      "Name: 3382, dtype: object , Genres : Comedy|Drama\n"
     ]
    }
   ],
   "source": [
    "prediction_df = cf.predict_ratings(2)\n",
    "\n",
    "ids = prediction_df.sort_values(by=['PredictedRating']).tail(10).index\n",
    "movies = cf.getMovies(2, ids)\n",
    "\n",
    "for movie in movies:\n",
    "    print(f\"Title : {movie[2]} , MovieID : {movie[0]} , Rating : {movie[1]} , Genres : {movie[3]}\")"
   ]
  }
 ],
 "metadata": {
  "kernelspec": {
   "display_name": "base",
   "language": "python",
   "name": "python3"
  },
  "language_info": {
   "codemirror_mode": {
    "name": "ipython",
    "version": 3
   },
   "file_extension": ".py",
   "mimetype": "text/x-python",
   "name": "python",
   "nbconvert_exporter": "python",
   "pygments_lexer": "ipython3",
   "version": "3.10.13"
  }
 },
 "nbformat": 4,
 "nbformat_minor": 2
}
