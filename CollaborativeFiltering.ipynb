{
 "cells": [
  {
   "cell_type": "code",
   "execution_count": 1,
   "metadata": {},
   "outputs": [],
   "source": [
    "import numpy as np\n",
    "import pandas as pd\n",
    "\n",
    "class CollaborativeFiltering:\n",
    "    def __init__(self, data):\n",
    "        \"\"\"\n",
    "        Initialize CollaborativeFiltering object with user-item rating data.\n",
    "        \n",
    "        Parameters:\n",
    "        - data: DataFrame containing user-item ratings\n",
    "        \"\"\"\n",
    "        self.data = data\n",
    "        self.train_data = None\n",
    "        self.test_data = None\n",
    "        self.similarity_matrix = None\n",
    "\n",
    "    def calculate_similarity_matrix(self):\n",
    "        \"\"\"\n",
    "        Calculate item-item similarity matrix based on user ratings.\n",
    "        \"\"\"\n",
    "        user_item_matrix = self.train_data.pivot(index='UserID', columns='MovieID', values='Rating').fillna(0)\n",
    "        n_movies = user_item_matrix.shape[1]\n",
    "        similarity_matrix = np.zeros((n_movies, n_movies))\n",
    "        for i in range(n_movies):\n",
    "            for j in range(n_movies):\n",
    "                similarity_matrix[i, j] = np.dot(user_item_matrix.iloc[:, i], user_item_matrix.iloc[:, j]) / (np.linalg.norm(user_item_matrix.iloc[:, i]) * np.linalg.norm(user_item_matrix.iloc[:, j]) + 1e-9)\n",
    "        self.similarity_matrix = pd.DataFrame(similarity_matrix, index=user_item_matrix.columns, columns=user_item_matrix.columns)\n",
    "\n",
    "    def predict_ratings(self, user_id):\n",
    "        \"\"\"\n",
    "        Predict ratings for items for a given user.\n",
    "        \n",
    "        Parameters:\n",
    "        - user_id: ID of the user for whom to predict ratings\n",
    "        \n",
    "        Returns:\n",
    "        - DataFrame containing predicted ratings for each item\n",
    "        \"\"\"\n",
    "        user_ratings = self.train_data[self.train_data['UserID'] == user_id]\n",
    "        predicted_ratings = pd.DataFrame(index=self.similarity_matrix.index, columns=['PredictedRating'])\n",
    "        for item_id in predicted_ratings.index:\n",
    "            numerator = 0\n",
    "            denominator = 0\n",
    "            for _, rating_row in user_ratings.iterrows():\n",
    "                similarity = self.similarity_matrix.loc[item_id, rating_row['MovieID']]\n",
    "                numerator += similarity * rating_row['Rating']\n",
    "                denominator += similarity\n",
    "            predicted_ratings.loc[item_id, 'PredictedRating'] = numerator / (denominator + 1e-9)  # Add a small value to avoid division by zero\n",
    "        return predicted_ratings\n",
    "\n",
    "    def train_test_split(self, test_size=0.2):\n",
    "        \"\"\"\n",
    "        Split the data into training and test sets.\n",
    "        \n",
    "        Parameters:\n",
    "        - test_size: Fraction of the data to be used for testing\n",
    "        \"\"\"\n",
    "        np.random.seed(42)  # for reproducibility\n",
    "        mask = np.random.rand(len(self.data)) < 1 - test_size\n",
    "        self.train_data = self.data[mask]\n",
    "        self.test_data = self.data[~mask]\n",
    "\n",
    "    def evaluate(self):\n",
    "        \"\"\"\n",
    "        Evaluate the Collaborative Filtering model on the test set.\n",
    "        \n",
    "        Returns:\n",
    "        - Mean squared error (MSE) of the predictions\n",
    "        \"\"\"\n",
    "        self.calculate_similarity_matrix()\n",
    "        mse_sum = 0\n",
    "        total_predictions = 0\n",
    "        for user_id in self.test_data['UserID'].unique():\n",
    "            user_test_ratings = self.test_data[self.test_data['UserID'] == user_id]\n",
    "            user_predicted_ratings = self.predict_ratings(user_id)\n",
    "            for _, row in user_test_ratings.iterrows():\n",
    "                if row['MovieID'] in user_predicted_ratings.index:\n",
    "                    total_predictions += 1\n",
    "                    mse_sum += (row['Rating'] - user_predicted_ratings.loc[row['MovieID'], 'PredictedRating']) ** 2\n",
    "        mse = mse_sum / total_predictions\n",
    "        return mse\n",
    "\n"
   ]
  },
  {
   "cell_type": "code",
   "execution_count": null,
   "metadata": {},
   "outputs": [],
   "source": []
  },
  {
   "cell_type": "code",
   "execution_count": 2,
   "metadata": {},
   "outputs": [],
   "source": [
    "# Example usage:\n",
    "# Assuming 'data' is a pandas DataFrame with user-item ratings\n",
    "\n",
    "# Read data from CSV files\n",
    "users = pd.read_csv(\"users.csv\")\n",
    "ratings = pd.read_csv(\"ratings.csv\")\n",
    "movies = pd.read_csv(\"movies.csv\")"
   ]
  },
  {
   "cell_type": "code",
   "execution_count": 4,
   "metadata": {},
   "outputs": [
    {
     "name": "stderr",
     "output_type": "stream",
     "text": [
      "C:\\Users\\kalya\\AppData\\Local\\Temp\\ipykernel_9936\\862060812.py:3: DtypeWarning: Columns (26) have mixed types. Specify dtype option on import or set low_memory=False.\n",
      "  data=pd.read_csv(\"EncodedCombined.csv\")\n"
     ]
    },
    {
     "ename": "",
     "evalue": "",
     "output_type": "error",
     "traceback": [
      "\u001b[1;31mThe Kernel crashed while executing code in the current cell or a previous cell. \n",
      "\u001b[1;31mPlease review the code in the cell(s) to identify a possible cause of the failure. \n",
      "\u001b[1;31mClick <a href='https://aka.ms/vscodeJupyterKernelCrash'>here</a> for more info. \n",
      "\u001b[1;31mView Jupyter <a href='command:jupyter.viewOutput'>log</a> for further details."
     ]
    }
   ],
   "source": [
    "# Merge dataframes\n",
    "# data = pd.merge(pd.merge(users, ratings), movies)\n",
    "data=pd.read_csv(\"EncodedCombined.csv\")\n",
    "\n",
    "# Create CollaborativeFiltering instance\n",
    "cf = CollaborativeFiltering(data)\n",
    "\n",
    "# Split data into train and test sets\n",
    "cf.train_test_split(test_size=0.2)\n",
    "\n",
    "# Evaluate the model\n",
    "mse = cf.evaluate()\n",
    "print(\"Mean Squared Error:\", mse)"
   ]
  }
 ],
 "metadata": {
  "kernelspec": {
   "display_name": "base",
   "language": "python",
   "name": "python3"
  },
  "language_info": {
   "codemirror_mode": {
    "name": "ipython",
    "version": 3
   },
   "file_extension": ".py",
   "mimetype": "text/x-python",
   "name": "python",
   "nbconvert_exporter": "python",
   "pygments_lexer": "ipython3",
   "version": "0.0.0"
  }
 },
 "nbformat": 4,
 "nbformat_minor": 2
}
