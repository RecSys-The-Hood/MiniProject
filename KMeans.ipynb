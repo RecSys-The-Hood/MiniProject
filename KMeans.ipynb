{
 "cells": [
  {
   "cell_type": "code",
   "execution_count": 35,
   "metadata": {},
   "outputs": [],
   "source": [
    "import numpy as np\n",
    "import pandas as pd\n",
    "\n",
    "class KMeans:\n",
    "    def __init__(self, data, k=3, max_iterations=100):\n",
    "        \"\"\"\n",
    "        Initialize KMeans object with the data and parameters.\n",
    "        \n",
    "        Parameters:\n",
    "        - data: DataFrame with numerical columns\n",
    "        - k: Number of clusters\n",
    "        - max_iterations: Maximum number of iterations\n",
    "        \"\"\"\n",
    "        self.data = data\n",
    "        self.train_data = None\n",
    "        self.test_data = None\n",
    "        self.k = k\n",
    "        self.max_iterations = max_iterations\n",
    "        self.centroids = None\n",
    "        self.clusters = None\n",
    "\n",
    "    def initialize_centroids(self):\n",
    "        \"\"\"\n",
    "        Initialize centroids randomly from the training data.\n",
    "        \"\"\"\n",
    "        self.centroids = self.train_data.sample(self.k)\n",
    "\n",
    "    def assign_clusters(self):\n",
    "        \"\"\"\n",
    "        Assign data points to the nearest centroid.\n",
    "        \"\"\"\n",
    "        distances = np.sqrt(((self.train_data.values[:, np.newaxis] - self.centroids.values)**2).sum(axis=2))\n",
    "        self.clusters = np.argmin(distances, axis=1)\n",
    "\n",
    "    def update_centroids(self):\n",
    "        \"\"\"\n",
    "        Update centroids based on the mean of data points in each cluster.\n",
    "        \"\"\"\n",
    "        self.centroids = np.array([self.train_data[self.clusters == i].mean(axis=0) for i in range(self.k)])\n",
    "\n",
    "    def train_test_split(self, test_size=0.2):\n",
    "        \"\"\"\n",
    "        Split the data into training and test sets.\n",
    "        \n",
    "        Parameters:\n",
    "        - test_size: Fraction of the data to be used for testing\n",
    "        \"\"\"\n",
    "        np.random.seed(42)  # for reproducibility\n",
    "        mask = np.random.rand(len(self.data)) < 1 - test_size\n",
    "        self.train_data = self.data[mask]\n",
    "        self.test_data = self.data[~mask]\n",
    "\n",
    "    def evaluate(self):\n",
    "        \"\"\"\n",
    "        Evaluate the K-means model on the test set.\n",
    "        \n",
    "        Returns:\n",
    "        - Accuracy of the predictions\n",
    "        \"\"\"\n",
    "        self.initialize_centroids()\n",
    "        for _ in range(self.max_iterations):\n",
    "            old_centroids = self.centroids.copy()\n",
    "            self.assign_clusters()\n",
    "            self.update_centroids()\n",
    "            if np.allclose(old_centroids, self.centroids):\n",
    "                break\n",
    "        \n",
    "        # Calculate accuracy\n",
    "        correct_predictions = 0\n",
    "        total_predictions = 0\n",
    "        for _, row in self.test_data.iterrows():\n",
    "            # Find the centroid closest to the test point\n",
    "            test_point = row.dropna().values\n",
    "            distances = np.sqrt(((test_point - self.centroids)**2).sum(axis=1))\n",
    "            closest_centroid_idx = np.argmin(distances)\n",
    "            predicted_cluster = closest_centroid_idx\n",
    "            true_cluster = row['Cluster']\n",
    "            total_predictions += 1\n",
    "            if predicted_cluster == true_cluster:\n",
    "                correct_predictions += 1\n",
    "        \n",
    "        accuracy = correct_predictions / total_predictions\n",
    "        return accuracy\n"
   ]
  },
  {
   "cell_type": "code",
   "execution_count": 36,
   "metadata": {},
   "outputs": [],
   "source": [
    "# Example usage:\n",
    "# Assuming 'data' is a pandas DataFrame with numerical columns\n",
    "# and 'k' is the number of clusters\n",
    "\n",
    "# Read data from CSV files\n",
    "users = pd.read_csv(\"users.csv\")\n",
    "ratings = pd.read_csv(\"ratings.csv\")\n",
    "movies = pd.read_csv(\"movies.csv\")\n",
    "\n"
   ]
  },
  {
   "cell_type": "code",
   "execution_count": 37,
   "metadata": {},
   "outputs": [],
   "source": [
    "# Merge dataframes\n",
    "data = pd.merge(pd.merge(users, ratings), movies)\n",
    "\n",
    "# Drop non-numeric columns\n",
    "data = data.drop(columns=[\"UserID\", \"MovieID\", \"Title\", \"Genres\", \"Zip-code\"])\n"
   ]
  },
  {
   "cell_type": "code",
   "execution_count": 38,
   "metadata": {},
   "outputs": [
    {
     "ename": "TypeError",
     "evalue": "unsupported operand type(s) for -: 'str' and 'str'",
     "output_type": "error",
     "traceback": [
      "\u001b[1;31m---------------------------------------------------------------------------\u001b[0m",
      "\u001b[1;31mTypeError\u001b[0m                                 Traceback (most recent call last)",
      "Cell \u001b[1;32mIn[38], line 6\u001b[0m\n\u001b[0;32m      4\u001b[0m kmeans\u001b[38;5;241m.\u001b[39mtrain_test_split(test_size\u001b[38;5;241m=\u001b[39m\u001b[38;5;241m0.2\u001b[39m)\n\u001b[0;32m      5\u001b[0m \u001b[38;5;66;03m# Evaluate the model\u001b[39;00m\n\u001b[1;32m----> 6\u001b[0m accuracy \u001b[38;5;241m=\u001b[39m \u001b[43mkmeans\u001b[49m\u001b[38;5;241;43m.\u001b[39;49m\u001b[43mevaluate\u001b[49m\u001b[43m(\u001b[49m\u001b[43m)\u001b[49m\n\u001b[0;32m      7\u001b[0m \u001b[38;5;28mprint\u001b[39m(\u001b[38;5;124m\"\u001b[39m\u001b[38;5;124mAccuracy:\u001b[39m\u001b[38;5;124m\"\u001b[39m, accuracy)\n",
      "Cell \u001b[1;32mIn[35], line 63\u001b[0m, in \u001b[0;36mKMeans.evaluate\u001b[1;34m(self)\u001b[0m\n\u001b[0;32m     61\u001b[0m \u001b[38;5;28;01mfor\u001b[39;00m _ \u001b[38;5;129;01min\u001b[39;00m \u001b[38;5;28mrange\u001b[39m(\u001b[38;5;28mself\u001b[39m\u001b[38;5;241m.\u001b[39mmax_iterations):\n\u001b[0;32m     62\u001b[0m     old_centroids \u001b[38;5;241m=\u001b[39m \u001b[38;5;28mself\u001b[39m\u001b[38;5;241m.\u001b[39mcentroids\u001b[38;5;241m.\u001b[39mcopy()\n\u001b[1;32m---> 63\u001b[0m     \u001b[38;5;28;43mself\u001b[39;49m\u001b[38;5;241;43m.\u001b[39;49m\u001b[43massign_clusters\u001b[49m\u001b[43m(\u001b[49m\u001b[43m)\u001b[49m\n\u001b[0;32m     64\u001b[0m     \u001b[38;5;28mself\u001b[39m\u001b[38;5;241m.\u001b[39mupdate_centroids()\n\u001b[0;32m     65\u001b[0m     \u001b[38;5;28;01mif\u001b[39;00m np\u001b[38;5;241m.\u001b[39mallclose(old_centroids, \u001b[38;5;28mself\u001b[39m\u001b[38;5;241m.\u001b[39mcentroids):\n",
      "Cell \u001b[1;32mIn[35], line 32\u001b[0m, in \u001b[0;36mKMeans.assign_clusters\u001b[1;34m(self)\u001b[0m\n\u001b[0;32m     28\u001b[0m \u001b[38;5;28;01mdef\u001b[39;00m \u001b[38;5;21massign_clusters\u001b[39m(\u001b[38;5;28mself\u001b[39m):\n\u001b[0;32m     29\u001b[0m \u001b[38;5;250m    \u001b[39m\u001b[38;5;124;03m\"\"\"\u001b[39;00m\n\u001b[0;32m     30\u001b[0m \u001b[38;5;124;03m    Assign data points to the nearest centroid.\u001b[39;00m\n\u001b[0;32m     31\u001b[0m \u001b[38;5;124;03m    \"\"\"\u001b[39;00m\n\u001b[1;32m---> 32\u001b[0m     distances \u001b[38;5;241m=\u001b[39m np\u001b[38;5;241m.\u001b[39msqrt(((\u001b[38;5;28;43mself\u001b[39;49m\u001b[38;5;241;43m.\u001b[39;49m\u001b[43mtrain_data\u001b[49m\u001b[38;5;241;43m.\u001b[39;49m\u001b[43mvalues\u001b[49m\u001b[43m[\u001b[49m\u001b[43m:\u001b[49m\u001b[43m,\u001b[49m\u001b[43m \u001b[49m\u001b[43mnp\u001b[49m\u001b[38;5;241;43m.\u001b[39;49m\u001b[43mnewaxis\u001b[49m\u001b[43m]\u001b[49m\u001b[43m \u001b[49m\u001b[38;5;241;43m-\u001b[39;49m\u001b[43m \u001b[49m\u001b[38;5;28;43mself\u001b[39;49m\u001b[38;5;241;43m.\u001b[39;49m\u001b[43mcentroids\u001b[49m\u001b[38;5;241;43m.\u001b[39;49m\u001b[43mvalues\u001b[49m)\u001b[38;5;241m*\u001b[39m\u001b[38;5;241m*\u001b[39m\u001b[38;5;241m2\u001b[39m)\u001b[38;5;241m.\u001b[39msum(axis\u001b[38;5;241m=\u001b[39m\u001b[38;5;241m2\u001b[39m))\n\u001b[0;32m     33\u001b[0m     \u001b[38;5;28mself\u001b[39m\u001b[38;5;241m.\u001b[39mclusters \u001b[38;5;241m=\u001b[39m np\u001b[38;5;241m.\u001b[39margmin(distances, axis\u001b[38;5;241m=\u001b[39m\u001b[38;5;241m1\u001b[39m)\n",
      "\u001b[1;31mTypeError\u001b[0m: unsupported operand type(s) for -: 'str' and 'str'"
     ]
    }
   ],
   "source": [
    "# Create KMeans instance\n",
    "kmeans = KMeans(data)\n",
    "# Split data into train and test sets\n",
    "kmeans.train_test_split(test_size=0.2)\n",
    "# Evaluate the model\n",
    "accuracy = kmeans.evaluate()\n",
    "print(\"Accuracy:\", accuracy)"
   ]
  },
  {
   "cell_type": "code",
   "execution_count": null,
   "metadata": {},
   "outputs": [],
   "source": []
  }
 ],
 "metadata": {
  "kernelspec": {
   "display_name": "base",
   "language": "python",
   "name": "python3"
  },
  "language_info": {
   "codemirror_mode": {
    "name": "ipython",
    "version": 3
   },
   "file_extension": ".py",
   "mimetype": "text/x-python",
   "name": "python",
   "nbconvert_exporter": "python",
   "pygments_lexer": "ipython3",
   "version": "3.11.5"
  }
 },
 "nbformat": 4,
 "nbformat_minor": 2
}
