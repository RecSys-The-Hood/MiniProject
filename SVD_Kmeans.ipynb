{
 "cells": [
  {
   "cell_type": "code",
   "execution_count": 1,
   "metadata": {},
   "outputs": [],
   "source": [
    "import pandas as pd\n",
    "import numpy as np\n",
    "from km import KMeans\n",
    "from SVD import Matrix\n",
    "import matplotlib.pyplot as plt\n",
    "import math"
   ]
  },
  {
   "cell_type": "code",
   "execution_count": 2,
   "metadata": {},
   "outputs": [],
   "source": [
    "def load_data(file_path):\n",
    "    return pd.read_csv(file_path)\n"
   ]
  },
  {
   "cell_type": "code",
   "execution_count": 3,
   "metadata": {},
   "outputs": [
    {
     "name": "stdout",
     "output_type": "stream",
     "text": [
      "     UserID  MovieID  Rating  Action  Adventure  Animation  Children's  \\\n",
      "0         1     1193       5       0          0          0           0   \n",
      "1         1      661       3       0          0          1           1   \n",
      "2         1      914       3       0          0          0           0   \n",
      "3         1     3408       4       0          0          0           0   \n",
      "4         1     2355       5       0          0          1           1   \n",
      "..      ...      ...     ...     ...        ...        ...         ...   \n",
      "596      17     2010       4       0          0          0           0   \n",
      "597      17     3827       4       1          0          0           0   \n",
      "598      17      610       4       1          1          1           0   \n",
      "599      17     1077       5       0          0          0           0   \n",
      "600      17     2526       2       0          0          0           0   \n",
      "\n",
      "     Comedy  Crime  Documentary  ...  Musical  Mystery  Romance  Sci-Fi  \\\n",
      "0         0      0            0  ...        0        0        0       0   \n",
      "1         0      0            0  ...        1        0        0       0   \n",
      "2         0      0            0  ...        1        0        1       0   \n",
      "3         0      0            0  ...        0        0        0       0   \n",
      "4         1      0            0  ...        0        0        0       0   \n",
      "..      ...    ...          ...  ...      ...      ...      ...     ...   \n",
      "596       0      0            0  ...        0        0        0       1   \n",
      "597       0      0            0  ...        0        0        0       1   \n",
      "598       0      0            0  ...        0        0        0       1   \n",
      "599       1      0            0  ...        0        0        0       1   \n",
      "600       0      0            0  ...        0        0        0       1   \n",
      "\n",
      "     Thriller  War  Western  Gender  Age  Occupation  \n",
      "0           0    0        0       1    1          10  \n",
      "1           0    0        0       1    1          10  \n",
      "2           0    0        0       1    1          10  \n",
      "3           0    0        0       1    1          10  \n",
      "4           0    0        0       1    1          10  \n",
      "..        ...  ...      ...     ...  ...         ...  \n",
      "596         0    0        0       0   50           1  \n",
      "597         0    0        0       0   50           1  \n",
      "598         0    0        0       0   50           1  \n",
      "599         0    0        0       0   50           1  \n",
      "600         0    0        0       0   50           1  \n",
      "\n",
      "[601 rows x 24 columns]\n"
     ]
    }
   ],
   "source": [
    "file_path = \"./EncodedCombined2.csv\"  # Replace with your dataset file path\n",
    "data = load_data(file_path)\n",
    "\n",
    "avg_rating = load_data(\"./Movie_Rating.csv\")\n",
    "# Assuming the data matrix is constructed with users as rows and movies as columns\n",
    "data_matrix = data.iloc[:601, :]  # Exclude first column (user IDs)\n",
    "# data_matrix.drop(columns=[\"Zip-code\",\"Title\"],inplace=True)\n",
    "print(data_matrix)\n"
   ]
  },
  {
   "cell_type": "code",
   "execution_count": 4,
   "metadata": {},
   "outputs": [
    {
     "name": "stdout",
     "output_type": "stream",
     "text": [
      "UserID         int16\n",
      "MovieID        int16\n",
      "Rating          int8\n",
      "Action          int8\n",
      "Adventure       int8\n",
      "Animation       int8\n",
      "Children's      int8\n",
      "Comedy          int8\n",
      "Crime           int8\n",
      "Documentary     int8\n",
      "Drama           int8\n",
      "Fantasy         int8\n",
      "Film-Noir       int8\n",
      "Horror          int8\n",
      "Musical         int8\n",
      "Mystery         int8\n",
      "Romance         int8\n",
      "Sci-Fi          int8\n",
      "Thriller        int8\n",
      "War             int8\n",
      "Western         int8\n",
      "Gender          int8\n",
      "Age             int8\n",
      "Occupation      int8\n",
      "dtype: object\n"
     ]
    },
    {
     "name": "stderr",
     "output_type": "stream",
     "text": [
      "C:\\Users\\kalya\\AppData\\Local\\Temp\\ipykernel_13292\\3270383453.py:1: SettingWithCopyWarning: \n",
      "A value is trying to be set on a copy of a slice from a DataFrame.\n",
      "Try using .loc[row_indexer,col_indexer] = value instead\n",
      "\n",
      "See the caveats in the documentation: https://pandas.pydata.org/pandas-docs/stable/user_guide/indexing.html#returning-a-view-versus-a-copy\n",
      "  data_matrix[\"MovieID\"]=data_matrix[\"MovieID\"].astype(np.int16)\n",
      "C:\\Users\\kalya\\AppData\\Local\\Temp\\ipykernel_13292\\3270383453.py:2: SettingWithCopyWarning: \n",
      "A value is trying to be set on a copy of a slice from a DataFrame.\n",
      "Try using .loc[row_indexer,col_indexer] = value instead\n",
      "\n",
      "See the caveats in the documentation: https://pandas.pydata.org/pandas-docs/stable/user_guide/indexing.html#returning-a-view-versus-a-copy\n",
      "  data_matrix[\"UserID\"]=data_matrix[\"UserID\"].astype(np.int16)\n",
      "C:\\Users\\kalya\\AppData\\Local\\Temp\\ipykernel_13292\\3270383453.py:5: SettingWithCopyWarning: \n",
      "A value is trying to be set on a copy of a slice from a DataFrame.\n",
      "Try using .loc[row_indexer,col_indexer] = value instead\n",
      "\n",
      "See the caveats in the documentation: https://pandas.pydata.org/pandas-docs/stable/user_guide/indexing.html#returning-a-view-versus-a-copy\n",
      "  data_matrix[col]=data_matrix[col].astype(np.int8)\n",
      "C:\\Users\\kalya\\AppData\\Local\\Temp\\ipykernel_13292\\3270383453.py:5: SettingWithCopyWarning: \n",
      "A value is trying to be set on a copy of a slice from a DataFrame.\n",
      "Try using .loc[row_indexer,col_indexer] = value instead\n",
      "\n",
      "See the caveats in the documentation: https://pandas.pydata.org/pandas-docs/stable/user_guide/indexing.html#returning-a-view-versus-a-copy\n",
      "  data_matrix[col]=data_matrix[col].astype(np.int8)\n",
      "C:\\Users\\kalya\\AppData\\Local\\Temp\\ipykernel_13292\\3270383453.py:5: SettingWithCopyWarning: \n",
      "A value is trying to be set on a copy of a slice from a DataFrame.\n",
      "Try using .loc[row_indexer,col_indexer] = value instead\n",
      "\n",
      "See the caveats in the documentation: https://pandas.pydata.org/pandas-docs/stable/user_guide/indexing.html#returning-a-view-versus-a-copy\n",
      "  data_matrix[col]=data_matrix[col].astype(np.int8)\n",
      "C:\\Users\\kalya\\AppData\\Local\\Temp\\ipykernel_13292\\3270383453.py:5: SettingWithCopyWarning: \n",
      "A value is trying to be set on a copy of a slice from a DataFrame.\n",
      "Try using .loc[row_indexer,col_indexer] = value instead\n",
      "\n",
      "See the caveats in the documentation: https://pandas.pydata.org/pandas-docs/stable/user_guide/indexing.html#returning-a-view-versus-a-copy\n",
      "  data_matrix[col]=data_matrix[col].astype(np.int8)\n",
      "C:\\Users\\kalya\\AppData\\Local\\Temp\\ipykernel_13292\\3270383453.py:5: SettingWithCopyWarning: \n",
      "A value is trying to be set on a copy of a slice from a DataFrame.\n",
      "Try using .loc[row_indexer,col_indexer] = value instead\n",
      "\n",
      "See the caveats in the documentation: https://pandas.pydata.org/pandas-docs/stable/user_guide/indexing.html#returning-a-view-versus-a-copy\n",
      "  data_matrix[col]=data_matrix[col].astype(np.int8)\n",
      "C:\\Users\\kalya\\AppData\\Local\\Temp\\ipykernel_13292\\3270383453.py:5: SettingWithCopyWarning: \n",
      "A value is trying to be set on a copy of a slice from a DataFrame.\n",
      "Try using .loc[row_indexer,col_indexer] = value instead\n",
      "\n",
      "See the caveats in the documentation: https://pandas.pydata.org/pandas-docs/stable/user_guide/indexing.html#returning-a-view-versus-a-copy\n",
      "  data_matrix[col]=data_matrix[col].astype(np.int8)\n",
      "C:\\Users\\kalya\\AppData\\Local\\Temp\\ipykernel_13292\\3270383453.py:5: SettingWithCopyWarning: \n",
      "A value is trying to be set on a copy of a slice from a DataFrame.\n",
      "Try using .loc[row_indexer,col_indexer] = value instead\n",
      "\n",
      "See the caveats in the documentation: https://pandas.pydata.org/pandas-docs/stable/user_guide/indexing.html#returning-a-view-versus-a-copy\n",
      "  data_matrix[col]=data_matrix[col].astype(np.int8)\n",
      "C:\\Users\\kalya\\AppData\\Local\\Temp\\ipykernel_13292\\3270383453.py:5: SettingWithCopyWarning: \n",
      "A value is trying to be set on a copy of a slice from a DataFrame.\n",
      "Try using .loc[row_indexer,col_indexer] = value instead\n",
      "\n",
      "See the caveats in the documentation: https://pandas.pydata.org/pandas-docs/stable/user_guide/indexing.html#returning-a-view-versus-a-copy\n",
      "  data_matrix[col]=data_matrix[col].astype(np.int8)\n",
      "C:\\Users\\kalya\\AppData\\Local\\Temp\\ipykernel_13292\\3270383453.py:5: SettingWithCopyWarning: \n",
      "A value is trying to be set on a copy of a slice from a DataFrame.\n",
      "Try using .loc[row_indexer,col_indexer] = value instead\n",
      "\n",
      "See the caveats in the documentation: https://pandas.pydata.org/pandas-docs/stable/user_guide/indexing.html#returning-a-view-versus-a-copy\n",
      "  data_matrix[col]=data_matrix[col].astype(np.int8)\n",
      "C:\\Users\\kalya\\AppData\\Local\\Temp\\ipykernel_13292\\3270383453.py:5: SettingWithCopyWarning: \n",
      "A value is trying to be set on a copy of a slice from a DataFrame.\n",
      "Try using .loc[row_indexer,col_indexer] = value instead\n",
      "\n",
      "See the caveats in the documentation: https://pandas.pydata.org/pandas-docs/stable/user_guide/indexing.html#returning-a-view-versus-a-copy\n",
      "  data_matrix[col]=data_matrix[col].astype(np.int8)\n",
      "C:\\Users\\kalya\\AppData\\Local\\Temp\\ipykernel_13292\\3270383453.py:5: SettingWithCopyWarning: \n",
      "A value is trying to be set on a copy of a slice from a DataFrame.\n",
      "Try using .loc[row_indexer,col_indexer] = value instead\n",
      "\n",
      "See the caveats in the documentation: https://pandas.pydata.org/pandas-docs/stable/user_guide/indexing.html#returning-a-view-versus-a-copy\n",
      "  data_matrix[col]=data_matrix[col].astype(np.int8)\n",
      "C:\\Users\\kalya\\AppData\\Local\\Temp\\ipykernel_13292\\3270383453.py:5: SettingWithCopyWarning: \n",
      "A value is trying to be set on a copy of a slice from a DataFrame.\n",
      "Try using .loc[row_indexer,col_indexer] = value instead\n",
      "\n",
      "See the caveats in the documentation: https://pandas.pydata.org/pandas-docs/stable/user_guide/indexing.html#returning-a-view-versus-a-copy\n",
      "  data_matrix[col]=data_matrix[col].astype(np.int8)\n",
      "C:\\Users\\kalya\\AppData\\Local\\Temp\\ipykernel_13292\\3270383453.py:5: SettingWithCopyWarning: \n",
      "A value is trying to be set on a copy of a slice from a DataFrame.\n",
      "Try using .loc[row_indexer,col_indexer] = value instead\n",
      "\n",
      "See the caveats in the documentation: https://pandas.pydata.org/pandas-docs/stable/user_guide/indexing.html#returning-a-view-versus-a-copy\n",
      "  data_matrix[col]=data_matrix[col].astype(np.int8)\n",
      "C:\\Users\\kalya\\AppData\\Local\\Temp\\ipykernel_13292\\3270383453.py:5: SettingWithCopyWarning: \n",
      "A value is trying to be set on a copy of a slice from a DataFrame.\n",
      "Try using .loc[row_indexer,col_indexer] = value instead\n",
      "\n",
      "See the caveats in the documentation: https://pandas.pydata.org/pandas-docs/stable/user_guide/indexing.html#returning-a-view-versus-a-copy\n",
      "  data_matrix[col]=data_matrix[col].astype(np.int8)\n",
      "C:\\Users\\kalya\\AppData\\Local\\Temp\\ipykernel_13292\\3270383453.py:5: SettingWithCopyWarning: \n",
      "A value is trying to be set on a copy of a slice from a DataFrame.\n",
      "Try using .loc[row_indexer,col_indexer] = value instead\n",
      "\n",
      "See the caveats in the documentation: https://pandas.pydata.org/pandas-docs/stable/user_guide/indexing.html#returning-a-view-versus-a-copy\n",
      "  data_matrix[col]=data_matrix[col].astype(np.int8)\n",
      "C:\\Users\\kalya\\AppData\\Local\\Temp\\ipykernel_13292\\3270383453.py:5: SettingWithCopyWarning: \n",
      "A value is trying to be set on a copy of a slice from a DataFrame.\n",
      "Try using .loc[row_indexer,col_indexer] = value instead\n",
      "\n",
      "See the caveats in the documentation: https://pandas.pydata.org/pandas-docs/stable/user_guide/indexing.html#returning-a-view-versus-a-copy\n",
      "  data_matrix[col]=data_matrix[col].astype(np.int8)\n",
      "C:\\Users\\kalya\\AppData\\Local\\Temp\\ipykernel_13292\\3270383453.py:5: SettingWithCopyWarning: \n",
      "A value is trying to be set on a copy of a slice from a DataFrame.\n",
      "Try using .loc[row_indexer,col_indexer] = value instead\n",
      "\n",
      "See the caveats in the documentation: https://pandas.pydata.org/pandas-docs/stable/user_guide/indexing.html#returning-a-view-versus-a-copy\n",
      "  data_matrix[col]=data_matrix[col].astype(np.int8)\n",
      "C:\\Users\\kalya\\AppData\\Local\\Temp\\ipykernel_13292\\3270383453.py:5: SettingWithCopyWarning: \n",
      "A value is trying to be set on a copy of a slice from a DataFrame.\n",
      "Try using .loc[row_indexer,col_indexer] = value instead\n",
      "\n",
      "See the caveats in the documentation: https://pandas.pydata.org/pandas-docs/stable/user_guide/indexing.html#returning-a-view-versus-a-copy\n",
      "  data_matrix[col]=data_matrix[col].astype(np.int8)\n",
      "C:\\Users\\kalya\\AppData\\Local\\Temp\\ipykernel_13292\\3270383453.py:5: SettingWithCopyWarning: \n",
      "A value is trying to be set on a copy of a slice from a DataFrame.\n",
      "Try using .loc[row_indexer,col_indexer] = value instead\n",
      "\n",
      "See the caveats in the documentation: https://pandas.pydata.org/pandas-docs/stable/user_guide/indexing.html#returning-a-view-versus-a-copy\n",
      "  data_matrix[col]=data_matrix[col].astype(np.int8)\n",
      "C:\\Users\\kalya\\AppData\\Local\\Temp\\ipykernel_13292\\3270383453.py:5: SettingWithCopyWarning: \n",
      "A value is trying to be set on a copy of a slice from a DataFrame.\n",
      "Try using .loc[row_indexer,col_indexer] = value instead\n",
      "\n",
      "See the caveats in the documentation: https://pandas.pydata.org/pandas-docs/stable/user_guide/indexing.html#returning-a-view-versus-a-copy\n",
      "  data_matrix[col]=data_matrix[col].astype(np.int8)\n",
      "C:\\Users\\kalya\\AppData\\Local\\Temp\\ipykernel_13292\\3270383453.py:5: SettingWithCopyWarning: \n",
      "A value is trying to be set on a copy of a slice from a DataFrame.\n",
      "Try using .loc[row_indexer,col_indexer] = value instead\n",
      "\n",
      "See the caveats in the documentation: https://pandas.pydata.org/pandas-docs/stable/user_guide/indexing.html#returning-a-view-versus-a-copy\n",
      "  data_matrix[col]=data_matrix[col].astype(np.int8)\n",
      "C:\\Users\\kalya\\AppData\\Local\\Temp\\ipykernel_13292\\3270383453.py:5: SettingWithCopyWarning: \n",
      "A value is trying to be set on a copy of a slice from a DataFrame.\n",
      "Try using .loc[row_indexer,col_indexer] = value instead\n",
      "\n",
      "See the caveats in the documentation: https://pandas.pydata.org/pandas-docs/stable/user_guide/indexing.html#returning-a-view-versus-a-copy\n",
      "  data_matrix[col]=data_matrix[col].astype(np.int8)\n"
     ]
    }
   ],
   "source": [
    "data_matrix[\"MovieID\"]=data_matrix[\"MovieID\"].astype(np.int16)\n",
    "data_matrix[\"UserID\"]=data_matrix[\"UserID\"].astype(np.int16)\n",
    "for col in data_matrix.columns:\n",
    "    if(col!=\"MovieID\" and col!=\"UserID\"):\n",
    "        data_matrix[col]=data_matrix[col].astype(np.int8)\n",
    "print(data_matrix.dtypes)"
   ]
  },
  {
   "cell_type": "code",
   "execution_count": 5,
   "metadata": {},
   "outputs": [
    {
     "data": {
      "text/plain": [
       "{1, 2, 12, 15, 17}"
      ]
     },
     "execution_count": 5,
     "metadata": {},
     "output_type": "execute_result"
    }
   ],
   "source": [
    "user_ids = set(data_matrix['UserID'])\n",
    "user_ids"
   ]
  },
  {
   "cell_type": "code",
   "execution_count": 6,
   "metadata": {},
   "outputs": [],
   "source": [
    "def get_non_zero_eigenvalues(Sigma):\n",
    "    # Extract diagonal elements of Sigma\n",
    "    diagonal_elements = np.diag(Sigma)\n",
    "\n",
    "    # Filter out values not close to zero\n",
    "    non_zero_eigenvalues = [eigenvalue for eigenvalue in diagonal_elements if not math.isclose(eigenvalue, 0)]\n",
    "\n",
    "    return non_zero_eigenvalues\n"
   ]
  },
  {
   "cell_type": "code",
   "execution_count": 7,
   "metadata": {},
   "outputs": [
    {
     "name": "stdout",
     "output_type": "stream",
     "text": [
      "MovieID  1     6     21    24    30    32    34    47    48    50    ...  \\\n",
      "UserID                                                               ...   \n",
      "1         5.0   NaN   NaN   NaN   NaN   NaN   NaN   NaN   5.0   NaN  ...   \n",
      "2         NaN   NaN   1.0   NaN   NaN   NaN   NaN   NaN   NaN   NaN  ...   \n",
      "12        NaN   NaN   NaN   NaN   NaN   NaN   NaN   NaN   NaN   NaN  ...   \n",
      "15        NaN   4.0   NaN   NaN   NaN   3.0   NaN   4.0   NaN   4.0  ...   \n",
      "17        NaN   NaN   NaN   3.0   5.0   5.0   5.0   NaN   NaN   5.0  ...   \n",
      "\n",
      "MovieID  3793  3798  3809  3827  3863  3879  3893  3897  3932  3948  \n",
      "UserID                                                               \n",
      "1         NaN   NaN   NaN   NaN   NaN   NaN   NaN   NaN   NaN   NaN  \n",
      "2         NaN   NaN   3.0   NaN   NaN   NaN   1.0   NaN   NaN   NaN  \n",
      "12        NaN   NaN   NaN   NaN   NaN   NaN   NaN   4.0   NaN   NaN  \n",
      "15        NaN   4.0   NaN   NaN   NaN   NaN   NaN   NaN   NaN   3.0  \n",
      "17        4.0   NaN   NaN   4.0   3.0   4.0   NaN   NaN   3.0   NaN  \n",
      "\n",
      "[5 rows x 471 columns]\n"
     ]
    }
   ],
   "source": [
    "avgdict = avg_rating.set_index('MovieID')['AvgRating'].to_dict()\n",
    "avg_dict = {int(key): float(value)  for key, value in avgdict.items() if value != 'Avg. Rating'}\n",
    "\n",
    "A = data_matrix.pivot(index='UserID', columns='MovieID', values='Rating')\n",
    "A_mat = pd.DataFrame(A)\n",
    "A_watched=A_mat.copy()\n",
    "# print(avg_dict)\n",
    "A_mat= A_mat.fillna(avg_dict)\n",
    "print(A)"
   ]
  },
  {
   "cell_type": "code",
   "execution_count": 8,
   "metadata": {},
   "outputs": [
    {
     "data": {
      "text/plain": [
       "(MovieID  1     6     21    24    30    32    34    47    48    50    ...  \\\n",
       " UserID                                                               ...   \n",
       " 1        5.00  3.88  3.62  3.18  3.65  3.95  3.89  4.11  5.00  4.52  ...   \n",
       " 2        4.15  3.88  1.00  3.18  3.65  3.95  3.89  4.11  2.98  4.52  ...   \n",
       " 12       4.15  3.88  3.62  3.18  3.65  3.95  3.89  4.11  2.98  4.52  ...   \n",
       " 15       4.15  4.00  3.62  3.18  3.65  3.00  3.89  4.00  2.98  4.00  ...   \n",
       " 17       4.15  3.88  3.62  3.00  5.00  5.00  5.00  4.11  2.98  5.00  ...   \n",
       " \n",
       " MovieID  3793  3798  3809  3827  3863  3879  3893  3897  3932  3948  \n",
       " UserID                                                               \n",
       " 1        3.82  3.33   3.4  3.38  3.26  2.78   3.5  4.23  3.75  3.64  \n",
       " 2        3.82  3.33   3.0  3.38  3.26  2.78   1.0  4.23  3.75  3.64  \n",
       " 12       3.82  3.33   3.4  3.38  3.26  2.78   3.5  4.00  3.75  3.64  \n",
       " 15       3.82  4.00   3.4  3.38  3.26  2.78   3.5  4.23  3.75  3.00  \n",
       " 17       4.00  3.33   3.4  4.00  3.00  4.00   3.5  4.23  3.00  3.64  \n",
       " \n",
       " [5 rows x 471 columns],\n",
       " MovieID  1     6     21    24    30    32    34    47    48    50    ...  \\\n",
       " UserID                                                               ...   \n",
       " 1         5.0   NaN   NaN   NaN   NaN   NaN   NaN   NaN   5.0   NaN  ...   \n",
       " 2         NaN   NaN   1.0   NaN   NaN   NaN   NaN   NaN   NaN   NaN  ...   \n",
       " 12        NaN   NaN   NaN   NaN   NaN   NaN   NaN   NaN   NaN   NaN  ...   \n",
       " 15        NaN   4.0   NaN   NaN   NaN   3.0   NaN   4.0   NaN   4.0  ...   \n",
       " 17        NaN   NaN   NaN   3.0   5.0   5.0   5.0   NaN   NaN   5.0  ...   \n",
       " \n",
       " MovieID  3793  3798  3809  3827  3863  3879  3893  3897  3932  3948  \n",
       " UserID                                                               \n",
       " 1         NaN   NaN   NaN   NaN   NaN   NaN   NaN   NaN   NaN   NaN  \n",
       " 2         NaN   NaN   3.0   NaN   NaN   NaN   1.0   NaN   NaN   NaN  \n",
       " 12        NaN   NaN   NaN   NaN   NaN   NaN   NaN   4.0   NaN   NaN  \n",
       " 15        NaN   4.0   NaN   NaN   NaN   NaN   NaN   NaN   NaN   3.0  \n",
       " 17        4.0   NaN   NaN   4.0   3.0   4.0   NaN   NaN   3.0   NaN  \n",
       " \n",
       " [5 rows x 471 columns])"
      ]
     },
     "execution_count": 8,
     "metadata": {},
     "output_type": "execute_result"
    }
   ],
   "source": [
    "A_mat=A_mat.round(2)\n",
    "# print(A_mat.dtypes)\n",
    "A_mat,A_watched"
   ]
  },
  {
   "cell_type": "code",
   "execution_count": 9,
   "metadata": {},
   "outputs": [
    {
     "name": "stdout",
     "output_type": "stream",
     "text": [
      "31717.161445850918\n",
      "119.61789530268659\n",
      "105.86737103951104\n",
      "60.430651532579915\n",
      "23.896335102170262\n",
      "\n",
      "Outputs\n",
      "\n",
      "31717.161445850918\n",
      "119.61789530268659\n",
      "105.86737103951104\n",
      "60.430651532579915\n",
      "23.896335102170262\n",
      "\n",
      "Outputs\n",
      "\n"
     ]
    }
   ],
   "source": [
    "A = Matrix(A_mat)\n",
    "U,Sigma,V = A.svd()\n",
    "\n",
    "non_zero_diag = get_non_zero_eigenvalues(Sigma)\n",
    "U_red,Sigma_red,V_red = A.reduced_svd(len(non_zero_diag))  # Number of components for SVD "
   ]
  },
  {
   "cell_type": "code",
   "execution_count": 10,
   "metadata": {},
   "outputs": [],
   "source": [
    "np.savetxt('U_red_Kmeans.txt', U_red)\n",
    "np.savetxt('Sigma_red_Kmeans.txt', Sigma_red)\n",
    "np.savetxt('V_red_Kmeans.txt', V_red)"
   ]
  },
  {
   "cell_type": "code",
   "execution_count": 11,
   "metadata": {},
   "outputs": [
    {
     "name": "stdout",
     "output_type": "stream",
     "text": [
      "(5, 5)\n",
      "(5, 5)\n",
      "(471, 5)\n"
     ]
    }
   ],
   "source": [
    "U_red = np.loadtxt('U_red_Kmeans.txt')\n",
    "Sigma_red = np.loadtxt('Sigma_red_Kmeans.txt')\n",
    "V_red = np.loadtxt('V_red_Kmeans.txt')\n",
    "print(U_red.shape)\n",
    "print(Sigma_red.shape)\n",
    "print(V_red.shape)"
   ]
  },
  {
   "cell_type": "code",
   "execution_count": 12,
   "metadata": {},
   "outputs": [
    {
     "data": {
      "text/plain": [
       "array([[-4.99999999, -3.88      , -3.62      , ..., -4.23      ,\n",
       "        -3.75      , -3.64      ],\n",
       "       [-4.15      , -3.88      , -1.00000001, ..., -4.23      ,\n",
       "        -3.75      , -3.64      ],\n",
       "       [-4.15000001, -3.88      , -3.61999999, ..., -4.        ,\n",
       "        -3.75      , -3.64      ],\n",
       "       [-4.15      , -4.        , -3.62      , ..., -4.23      ,\n",
       "        -3.75      , -3.        ],\n",
       "       [-4.15      , -3.88      , -3.62      , ..., -4.23      ,\n",
       "        -3.        , -3.64      ]])"
      ]
     },
     "execution_count": 12,
     "metadata": {},
     "output_type": "execute_result"
    }
   ],
   "source": [
    "def elbow_method(data, max_clusters=4):\n",
    "    distortions = []\n",
    "    for i in range(1, max_clusters + 1):\n",
    "        km = KMeans(i)\n",
    "        km.fit(data)\n",
    "        distortions.append(km.get_cost())\n",
    "    # Plotting the elbow curve\n",
    "    plt.plot(range(1, max_clusters + 1), distortions, marker='o')\n",
    "    plt.xlabel('Number of clusters')\n",
    "    plt.ylabel('Distortion')\n",
    "    plt.title('Elbow Method')\n",
    "    plt.show()\n",
    "\n",
    "# Assuming your data is in V_red_T\n",
    "# Perform Elbow Method\n",
    "new_mat = (U_red.dot(Sigma_red)).dot(V_red.T)\n",
    "new_mat"
   ]
  },
  {
   "cell_type": "code",
   "execution_count": 13,
   "metadata": {},
   "outputs": [
    {
     "name": "stdout",
     "output_type": "stream",
     "text": [
      "sample_points_ids\n",
      "[0]\n",
      "the tuples\n",
      "(-4.999999988964701, -3.880000000480937, -3.6199999956803732, -3.180000000061177, -3.6500000018256795, -3.9500000002559332, -3.8900000015749336, -4.110000000195946, -4.999999973203114, -4.520000000229063, -3.1599999987284804, -3.82000000055533, -2.850000001533676, -2.879999998687405, -3.5300000009147117, -4.2300000024681275, -4.180000007938506, -3.5500000008900416, -4.9999999878869055, -2.2399999998686884, -3.7200000006793217, -4.0600000013972934, -3.460000001848648, -3.5700000007814374, -3.559999999308133, -3.3000000010634825, -3.95000000038447, -3.1899999986912175, -3.7000000005389335, -3.870000001595844, -3.229999999964085, -4.000000006419566, -3.9300000004498727, -3.4300000010387066, -3.269999999795536, -4.110000001345094, -4.279999999474687, -3.760000002028099, -3.4900000008650656, -4.55000000095163, -3.890000000447185, -3.3799999998522416, -3.2699999999671694, -3.1500000013857625, -3.730000000785938, -4.090000002851778, -3.739999996687099, -3.8600000005057353, -3.2800000012246344, -3.520000000451236, -3.6300000018842673, -3.930000001533121, -3.0799999982454382, -2.9900000002791907, -4.080000001376389, -3.5500000008023482, -4.100000001046991, -2.8300000005349015, -3.7600000030870744, -2.740000000686123, -3.4200000010511697, -3.689999998400684, -3.920000002230137, -3.180000000026144, -3.6200000008031856, -4.999999992564763, -3.9800000003531784, -3.9999999972337963, -3.760000000629728, -4.27000000117797, -3.8700000004933957, -3.4999999996295066, -3.9999999975032106, -4.060000001291534, -3.9200000023203527, -4.3500000077952405, -3.999999998311592, -4.999999986713846, -4.000000003700045, -3.5500000008023482, -3.900000000568932, -3.5499999993250033, -3.4300000020439514, -3.2299999986416186, -3.000000006446045, -3.0000000201561283, -3.7199999993568524, -3.170000001727016, -4.090000001366003, -3.0000000207257904, -3.1500000000632804, -4.450000000989949, -2.180000001265496, -3.5099999979477987, -3.999999989824524, -3.0000000002492095, -3.5900000008404422, -2.510000004744728, -3.480000000976772, -4.520000004819188, -3.8200000016480424, -3.909999996956611, -4.400000001042147, -3.0000000157412456, -4.000000010643401, -4.000000002095784, -4.390000006011898, -4.070000001386907, -3.6599999849361997, -3.9999999952131096, -4.200000000123348, -3.6700000006770392, -3.6800000008699265, -3.280000006938041, -3.700000001773348, -4.999999983710753, -4.999999985462032, -4.999999982767864, -4.999999986000986, -3.9300000004053786, -3.9800000014809243, -4.099999998400808, -4.089999996654038, -3.5400000009023764, -3.980000000365893, -3.9999999988342414, -3.919999998703242, -3.74000000253258, -3.6800000006665234, -3.4600000008963603, -3.7900000016793336, -3.9600000015018275, -3.95000000041626, -4.999999989835123, -4.2900000020256, -3.00000001776207, -4.4800000037048555, -4.130000000196451, -4.080000001376389, -4.000000005366649, -4.020000000249595, -4.279999995648735, -4.1600000012928895, -3.8000000005412056, -4.269999998115105, -4.360000006287092, -4.250000001675612, -4.299999988322086, -4.1500000013032805, -4.079999998434426, -4.0099999967885065, -4.000000002212776, -4.249999990103461, -4.339999987955194, -4.139999999303459, -4.10000000192769, -3.9499999985805445, -4.999999987948255, -3.809999999245328, -3.930000001533121, -4.310000001136161, -4.999999988425748, -4.129999997526203, -4.1400000018604555, -4.129999999139562, -3.6699999997909347, -3.7100000006352234, -3.8100000024149794, -4.210000000112833, -3.54000000286808, -3.4099999995602044, -3.8800000004575774, -3.660000001815151, -3.269999999795536, -3.7299999998436593, -3.810000000230119, -3.9599999990594057, -3.020000001546888, -3.24999999998807, -3.1000000018446157, -3.80000000058013, -3.4999999996295066, -3.070000001484956, -3.809999999245328, -3.6400000029470063, -4.140000000096939, -3.0400000019454705, -4.000000001275294, -3.269999999795536, -3.9999999906329076, -3.3999999987036227, -3.739999998302808, -3.770000000572499, -3.0500000001872727, -3.780000000562111, -3.4100000003405375, -2.720000000541763, -3.5899999995179854, -4.050000001889141, -3.280000002212122, -3.619999999480719, -4.219999999616833, -3.4300000010387066, -2.720000000541763, -3.9100000004437976, -3.8000000005412056, -3.7799999979599836, -3.869999992267247, -2.6300000007077773, -3.439999999703902, -3.710000001762955, -3.570000000865241, -3.7699999992947912, -3.080000000114727, -2.960000000316441, -2.550000000806966, -4.179999999906209, -3.9999999946742886, -3.689999998421202, -3.7399999993320523, -3.489999999641841, -2.6599999994766317, -2.929999999013473, -3.9500000009233682, -3.1699999999635042, -3.040000000181961, -3.03000000153443, -3.4500000010139082, -3.5600000008775816, -3.9400000004331295, -4.999999977648684, -3.3799999984556965, -3.760000000735578, -3.439999999703902, -3.689999998071516, -3.3700000011131044, -3.999999996829738, -3.490000001539473, -3.189999999929887, -3.790000000551593, -3.900000000568932, -4.270000001641997, -4.100000000164182, -3.94000000219651, -3.8000000006683345, -3.800000002431846, -4.999999987617483, -4.00000000069083, -3.879999997165702, -3.9600000003740816, -3.8900000004686, -3.5500000008900416, -3.250000003025471, -3.559999999890003, -3.51999999970591, -4.080000000248648, -3.3400000021495257, -3.999999996829738, -3.3600000021286194, -4.999999991219347, -3.4700000008859724, -3.609999998805222, -4.0700000019780544, -2.850000001533676, -3.360000001000896, -3.680000000728914, -2.7500000009999668, -3.650000000697946, -3.609999998170708, -3.5600000019196876, -2.760000000546652, -4.0100000003153955, -3.610000002751035, -3.930000002384856, -3.4599999996791047, -3.5699999995427754, -3.529999997335263, -3.5200000008337717, -3.4400000009172675, -3.790000000551593, -3.9600000003740816, -3.9999999933272017, -3.7799999992824587, -3.420000000938176, -3.8299999988544586, -3.000000007662585, -3.0000000036169725, -3.3099999999253504, -3.6900000008531797, -4.999999985092314, -3.879999998770474, -2.9500000025568793, -2.7699999992118567, -2.650000002005474, -3.749999999319591, -3.570000000865241, -4.129999999795289, -3.9999999997934426, -3.5400000008128605, -3.3799999997781645, -3.3999999959620615, -3.3600000011254356, -3.0500000001872727, -3.5100000000401796, -3.359999999802965, -4.140000001517395, -3.3399999985052977, -2.3699999997795773, -3.4699999997582336, -3.7100000006352234, -3.38999999844336, -3.360000001000896, -3.180000000061177, -3.2000000013238283, -4.3199999990105145, -3.170000000038485, -3.0200000002244076, -3.9299999992776633, -3.2599999999775546, -3.170000000038485, -2.679999984669607, -3.3199999972076166, -3.4099999995602044, -3.540000000098743, -3.2900000022017273, -3.9000000004366773, -3.360000001000896, -3.860000001606235, -3.0800000001655805, -3.910000001554032, -2.619999999518429, -2.529999999612455, -3.1400000000756148, -3.3900000010883096, -3.000000009274988, -3.1400000000756148, -4.000000003295985, -3.1400000013980924, -3.0699999975175247, -3.710000000691657, -3.5000000009519745, -3.200000000001345, -2.9100000004004234, -2.380000001017564, -3.1200000001004167, -4.019999998535142, -2.9600000014187553, -4.000000005978729, -3.6399999994559176, -3.5999999995055174, -3.2599999972820064, -3.999999999928085, -3.9999999984462353, -4.999999997212952, -3.1600000013732994, -2.900000001695553, -3.6300000007908455, -3.739999999005688, -4.320000000138248, -3.199999999648624, -2.8000000004970604, -3.2000000011680134, -4.00999999785833, -3.6800000006665234, -3.680000001018394, -4.000000001948768, -3.780000000701959, -4.079999998910612, -2.820000000472257, -4.129999997526203, -2.4799999995712363, -3.3800000011006395, -4.0600000002695555, -4.39999999966015, -3.5399999996851315, -3.2800000010843817, -4.150000000080192, -3.870000000550732, -3.390000002097195, -3.760000000735578, -3.5199999996047096, -4.130000000113809, -4.9999999833367115, -3.439999997746335, -3.6299999989693106, -2.630000002030269, -4.000000004175664, -3.359999999802965, -4.15000000147612, -3.9500000015784167, -3.4100000010635036, -2.910000001470951, -3.8899999978236526, -3.490000000964309, -3.7700000017002333, -3.5000000009519745, -3.850000000518196, -3.9999999933272017, -3.9000000004366773, -3.1699999987160146, -3.6800000008699265, -3.749999997837954, -2.8600000004844093, -3.479999998331833, -4.139999999047748, -3.6900000006561293, -3.200000000040273, -3.460000001001572, -3.3000000010634825, -3.3799999984556965, -4.079999998979869, -2.599999999422511, -3.9699999913498525, -3.340000001021798, -3.7599999979847865, -3.999999998631449, -3.5900000018882605, -3.6800000003315763, -4.05000000027034, -3.920000000466752, -2.9900000002595912, -3.67000000074125, -4.240000001692484, -4.010000002067616, -2.7299999994035176, -3.020000001546888, -3.8300000005429933, -3.4500000020346127, -3.7600000022228457, -3.650000000697946, -3.070000000162473, -3.219999998654086, -3.369999998468163, -3.6800000006665234, -4.110000004091552, -3.2999999999357397, -3.200000000001345, -3.650000001160787, -3.1899999989229357, -2.440000000943302, -3.9599999986360004, -3.650000003938131, -2.1000000011894073, -3.759999998972064, -3.4599999983217478, -3.5900000007605324, -3.2200000011471044, -3.659999999559694, -3.670000001804769, -3.1700000011993077, -3.7400000006039242, -2.970000001447952, -3.730000000666857, -3.97999999860238, -3.2399999999984614, -3.380000000979985, -3.8800000004575774, -3.7500000019645445, -3.349999999420696, -2.819999999149793, -3.010000000157388, -3.8200000005202943, -3.3300000011627007, -3.399999999577078, -3.380000000979985, -3.2599999999775546, -2.78000000160677, -3.4999999958820824, -4.229999998222048, -3.7499999994656896, -3.6399999994559167)\n",
      "Distance Matrix\n",
      "[[ 0.        ]\n",
      " [11.64514051]\n",
      " [ 7.13266413]\n",
      " [13.00731708]\n",
      " [12.2753166 ]]\n",
      "closest\n",
      "[0 0 0 0 0]\n",
      "Distance Matrix\n",
      "[[5.97190715]\n",
      " [8.82414047]\n",
      " [5.13816456]\n",
      " [9.90189957]\n",
      " [9.49010196]]\n",
      "closest\n",
      "[0 0 0 0 0]\n",
      "{0: 0, 1: 0, 2: 0, 3: 0, 4: 0}\n",
      "sample_points_ids\n",
      "[4, 0]\n",
      "the tuples\n",
      "(-4.1500000019498815, -3.8800000008452327, -3.6199999998215504, -3.000000001545221, -4.999999994356675, -4.999999995800196, -4.9999999955521055, -4.110000000882736, -2.9800000031456735, -4.9999999986622985, -3.1600000006212436, -3.820000000835496, -3.9999999951366783, -2.880000000299893, -3.530000000788259, -4.000000002334051, -4.180000003628079, -3.5500000007916315, -4.07000000203155, -2.240000000471481, -3.720000000819274, -4.999999996398828, -3.999999998373139, -3.9999999987229415, -3.5600000005642167, -3.9999999973780467, -4.000000000615738, -3.1900000006260423, -4.999999994348862, -4.999999995452497, -3.2300000006859952, -4.999999997760183, -3.930000000875347, -3.43000000077204, -3.2700000006079906, -4.99999999664792, -4.999999997426195, -4.999999994917372, -3.999999998324513, -4.999999998975221, -4.000000000316915, -3.000000002541424, -3.000000001993521, -3.150000000726496, -3.7300000009054526, -4.999999996877352, -3.740000000662107, -3.860000000841986, -3.280000000747651, -3.5200000009093766, -3.630000001253641, -4.999999995751321, -3.080000000265389, -2.9900000006506176, -4.999999996498439, -3.999999998623333, -4.999999996556119, -2.830000000674254, -4.000000000137073, -2.740000000687798, -3.420000000770482, -2.0000000088503875, -3.9200000012436633, -3.180000000677949, -3.6200000008029183, -4.000000003984667, -4.000000000765221, -3.7700000010998544, -3.7600000008257672, -4.999999997444909, -3.8700000008436715, -3.500000000729994, -3.790000001079398, -4.999999996376869, -4.000000000862472, -5.000000000222617, -3.8500000010181754, -4.999999996926583, -4.250000000609221, -3.999999998623333, -4.000000000372016, -3.550000000565793, -3.430000000981201, -3.230000000632528, -3.4600000001784514, -4.999999996471067, -3.720000000765812, -3.170000000989852, -4.999999996548308, -4.519999999095074, -3.150000000673016, -4.999999998341507, -2.1800000005151507, -3.9999999981562353, -3.2200000016620165, -3.0000000006486234, -3.59000000079812, -2.5100000021706075, -3.4800000007802177, -4.52000000257203, -4.999999995203417, -3.910000000144768, -4.99999999809242, -4.149999999473138, -4.250000003101109, -4.000000001231704, -4.3900000029758495, -4.999999996448703, -3.659999995276095, -3.620000001253195, -4.000000001861039, -3.9999999992211115, -3.6800000009129494, -3.2800000031013163, -4.999999994605628, -3.7600000023483857, -3.8900000022155057, -3.690000002420037, -3.9300000021747272, -4.000000000516133, -4.999999996000403, -4.100000000482969, -4.090000000117554, -3.540000000789946, -3.980000000867857, -3.0000000055173857, -3.920000000510051, -3.740000001270745, -3.9999999992708517, -3.999999998175035, -4.999999995053928, -4.999999995900796, -3.9500000008723246, -4.999999997705116, -4.999999997789446, -4.2999999993199305, -4.480000002494463, -4.000000001512347, -4.999999996498439, -4.43000000026755, -4.000000000955972, -4.0000000014081625, -4.999999996897003, -3.999999999868623, -4.270000000457335, -4.360000003068978, -4.250000001193968, -4.299999996610474, -4.999999996847135, -4.080000000485997, -4.010000000129645, -4.0100000012177235, -4.2499999970409315, -4.339999996486332, -4.999999996379223, -4.100000001216582, -4.9999999954516126, -4.999999997300898, -3.810000000780483, -4.999999995751321, -4.999999997644116, -4.110000001990647, -4.1300000007790425, -4.140000001210538, -4.130000000461019, -3.999999999185242, -3.9999999994203232, -3.8100000012602386, -4.00000000191078, -3.00000000389854, -3.410000000586828, -4.000000000267046, -4.999999994406413, -3.2700000006079906, -3.0000000042992063, -4.999999994856513, -3.9600000008048735, -3.0200000007053496, -3.00000000189391, -3.1000000010003723, -3.8000000008322554, -3.500000000729994, -3.0700000007135206, -3.810000000780483, -4.999999994458127, -4.140000000843661, -3.0400000010094463, -4.0700000007933035, -3.2700000006079906, -3.2800000016007815, -2.0000000074058812, -3.999999999476748, -3.999999999719141, -3.0500000006568, -3.999999999769014, -3.4100000006184525, -2.999999999253986, -3.5900000007446646, -4.000000001459619, -4.9999999925136045, -3.620000000749456, -4.9999999971306694, -3.43000000077204, -2.999999999253986, -3.9100000008501583, -3.999999999868623, -3.7800000007220826, -3.869999997946196, -2.6300000005884008, -3.44000000072026, -4.999999994655502, -3.5700000007948733, -3.7700000007738512, -3.080000000636522, -2.960000000654662, -2.550000000575421, -4.000000001751808, -3.580000001294112, -3.99999999923041, -3.7400000007690535, -3.490000000728305, -2.000000003719858, -2.9300000005837354, -3.9500000011883487, -3.1700000006229794, -3.0400000006425696, -3.0300000007069046, -3.4500000007752845, -3.560000000793189, -3.9400000008739005, -3.310000002808385, -3.3800000006569264, -3.760000000900986, -3.44000000072026, -3.6900000007074047, -3.3700000007623023, -3.7400000011306047, -3.999999998351725, -3.1900000006199605, -3.9999999998187494, -4.000000000372016, -4.270000001190947, -4.100000000849711, -3.9400000012406418, -3.800000000894932, -3.800000001261811, -4.050000002052007, -3.8800000013983658, -3.8800000001556874, -4.0000000006656125, -3.89000000084692, -3.5500000007916315, -3.2500000013312995, -3.560000000587729, -3.000000003238682, -4.00000000126326, -4.999999992812568, -3.7400000011306047, -4.999999992912166, -4.999999998467976, -3.9999999982249075, -3.0000000036544057, -4.07000000122105, -3.9999999951366783, -3.999999997677001, -3.6800000008127847, -2.750000000699685, -3.9999999991215063, -3.6100000006944306, -4.999999993908376, -2.7600000006095513, -4.010000000863252, -3.6100000012903375, -4.0000000009123715, -3.460000000723506, -3.570000000741412, -3.5300000004870427, -3.99999999847399, -3.999999998075429, -3.9999999998187494, -4.0000000006656125, -3.4800000013963768, -3.7800000007755425, -3.9999999979758263, -3.830000000523595, -4.999999993391179, -3.250000000393011, -3.000000002192736, -3.6900000009115015, -4.000000001541647, -3.8800000005161026, -4.999999990869889, -2.7700000005577867, -2.650000000645136, -3.7500000007706102, -3.5700000007948733, -4.000000001457718, -3.960000000905736, -3.9999999985735957, -3.3800000007103925, -3.400000000146625, -3.3600000007606137, -3.0500000006568, -3.5100000005979703, -3.360000000707151, -4.000000001870093, -3.3400000006504413, -2.0000000022753595, -3.000000002989728, -3.9999999994203232, -3.390000000658614, -3.999999997677001, -3.000000001545221, -3.200000000734674, -4.000000002324302, -3.170000000676265, -3.020000000651869, -3.00000000528098, -3.000000001943652, -3.170000000676265, -2.6799999949977305, -3.3200000005937134, -3.410000000586828, -3.9999999985447396, -4.999999992563482, -4.000000000366658, -3.999999997677001, -4.9999999954026295, -3.0000000010470473, -4.999999995651709, -2.000000003520643, -2.0000000030723513, -3.1400000006713316, -3.3900000007655535, -3.669999999963755, -3.1400000006713316, -4.220000000639966, -3.1400000007248092, -3.070000000553104, -3.7100000008175873, -3.5000000007834573, -3.200000000681193, -2.9100000006621585, -2.3800000005476476, -3.1200000006680844, -4.020000000494929, -3.9999999956845858, -4.999999997612628, -3.6400000007527007, -3.600000000746219, -3.2600000005839815, -3.9700000008954395, -3.860000001007879, -4.240000004382877, -3.1600000007280546, -2.900000000685748, -3.630000000804614, -3.7400000005371385, -4.999999997559474, -3.2000000006077944, -2.800000000616045, -3.999999996880009, -3.0000000056253815, -3.9999999992708517, -4.999999994273802, -4.120000000742096, -3.780000000897966, -4.0800000008243416, -2.820000000619286, -4.1300000007790425, -2.4800000005105423, -3.3800000007638684, -4.000000001163646, -4.400000000804619, -3.000000003338425, -3.999999997278433, -4.150000000842214, -3.870000000884414, -4.999999993061511, -3.760000000900986, -3.5200000007332313, -4.130000000845239, -3.780000002367045, -3.440000000215493, -3.000000003575271, -2.63000000064189, -4.999999996923448, -3.360000000707151, -4.000000001915735, -4.999999995853671, -3.4100000007687936, -3.9999999954354943, -3.89000000073998, -3.4900000007817686, -4.999999994954321, -3.5000000007834573, -3.8500000008404314, -3.4800000013963768, -4.000000000366658, -3.170000000622801, -3.6800000009129494, -3.9999999989909476, -2.860000000669654, -3.480000000673286, -4.140000000429885, -3.9999999993207163, -3.0000000016448283, -3.460000000776972, -3.9999999973780467, -3.3800000006569264, -3.000000005998769, -2.6000000005300685, -3.9699999976356515, -3.999999997577396, -3.7600000007188363, -3.860000001015435, -4.999999994057722, -3.9999999993519, -4.050000000872999, -3.9200000008769216, -3.000000000598751, -3.670000000811094, -4.240000001195548, -4.000000001277753, -2.0000000040685566, -3.0200000007053496, -3.83000000083719, -4.999999993360466, -3.9999999997356737, -3.9999999991215063, -3.0700000006600394, -3.2200000006309732, -3.370000000655378, -3.9999999992708517, -4.999999997021959, -3.000000002142863, -3.200000000681193, -3.999999999140196, -2.000000006359801, -2.4400000005575215, -3.960000000504002, -4.000000000284336, -2.999999996165692, -3.760000000534118, -3.9999999976395264, -3.9999999988225485, -3.9999999969796165, -3.0000000039360764, -4.999999994456278, -3.9999999967305326, -3.9999999995697997, -3.999999995735969, -3.7300000008208345, -3.98000000050098, -3.0000000018440427, -3.999999997776611, -4.000000000267046, -3.7500000008775634, -3.0000000023732554, -2.8200000005658286, -3.0100000006174863, -3.9999999999682276, -3.3300000007558244, -3.400000000588402, -3.999999997776611, -3.000000001943652, -3.9999999947879816, -3.499999999839692, -4.230000000150339, -3.000000004384379, -3.6400000007527047)\n",
      "Distance Matrix\n",
      "[[12.2753166   0.        ]\n",
      " [15.09986416 11.64514051]\n",
      " [11.57378494  7.13266413]\n",
      " [16.30054901 13.00731708]\n",
      " [ 0.         12.2753166 ]]\n",
      "closest\n",
      "[1 1 1 1 0]\n",
      "Distance Matrix\n",
      "[[12.2753166   5.92056841]\n",
      " [15.09986416  8.27494594]\n",
      " [11.57378494  5.25900945]\n",
      " [16.30054901  9.18024675]\n",
      " [ 0.         11.86262745]]\n",
      "closest\n",
      "[1 1 1 1 0]\n",
      "{0: 1, 1: 1, 2: 1, 3: 1, 4: 0}\n",
      "sample_points_ids\n",
      "[4, 0, 1]\n",
      "the tuples\n",
      "(-4.1500000019498815, -3.8800000008452327, -3.6199999998215504, -3.000000001545221, -4.999999994356675, -4.999999995800196, -4.9999999955521055, -4.110000000882736, -2.9800000031456735, -4.9999999986622985, -3.1600000006212436, -3.820000000835496, -3.9999999951366783, -2.880000000299893, -3.530000000788259, -4.000000002334051, -4.180000003628079, -3.5500000007916315, -4.07000000203155, -2.240000000471481, -3.720000000819274, -4.999999996398828, -3.999999998373139, -3.9999999987229415, -3.5600000005642167, -3.9999999973780467, -4.000000000615738, -3.1900000006260423, -4.999999994348862, -4.999999995452497, -3.2300000006859952, -4.999999997760183, -3.930000000875347, -3.43000000077204, -3.2700000006079906, -4.99999999664792, -4.999999997426195, -4.999999994917372, -3.999999998324513, -4.999999998975221, -4.000000000316915, -3.000000002541424, -3.000000001993521, -3.150000000726496, -3.7300000009054526, -4.999999996877352, -3.740000000662107, -3.860000000841986, -3.280000000747651, -3.5200000009093766, -3.630000001253641, -4.999999995751321, -3.080000000265389, -2.9900000006506176, -4.999999996498439, -3.999999998623333, -4.999999996556119, -2.830000000674254, -4.000000000137073, -2.740000000687798, -3.420000000770482, -2.0000000088503875, -3.9200000012436633, -3.180000000677949, -3.6200000008029183, -4.000000003984667, -4.000000000765221, -3.7700000010998544, -3.7600000008257672, -4.999999997444909, -3.8700000008436715, -3.500000000729994, -3.790000001079398, -4.999999996376869, -4.000000000862472, -5.000000000222617, -3.8500000010181754, -4.999999996926583, -4.250000000609221, -3.999999998623333, -4.000000000372016, -3.550000000565793, -3.430000000981201, -3.230000000632528, -3.4600000001784514, -4.999999996471067, -3.720000000765812, -3.170000000989852, -4.999999996548308, -4.519999999095074, -3.150000000673016, -4.999999998341507, -2.1800000005151507, -3.9999999981562353, -3.2200000016620165, -3.0000000006486234, -3.59000000079812, -2.5100000021706075, -3.4800000007802177, -4.52000000257203, -4.999999995203417, -3.910000000144768, -4.99999999809242, -4.149999999473138, -4.250000003101109, -4.000000001231704, -4.3900000029758495, -4.999999996448703, -3.659999995276095, -3.620000001253195, -4.000000001861039, -3.9999999992211115, -3.6800000009129494, -3.2800000031013163, -4.999999994605628, -3.7600000023483857, -3.8900000022155057, -3.690000002420037, -3.9300000021747272, -4.000000000516133, -4.999999996000403, -4.100000000482969, -4.090000000117554, -3.540000000789946, -3.980000000867857, -3.0000000055173857, -3.920000000510051, -3.740000001270745, -3.9999999992708517, -3.999999998175035, -4.999999995053928, -4.999999995900796, -3.9500000008723246, -4.999999997705116, -4.999999997789446, -4.2999999993199305, -4.480000002494463, -4.000000001512347, -4.999999996498439, -4.43000000026755, -4.000000000955972, -4.0000000014081625, -4.999999996897003, -3.999999999868623, -4.270000000457335, -4.360000003068978, -4.250000001193968, -4.299999996610474, -4.999999996847135, -4.080000000485997, -4.010000000129645, -4.0100000012177235, -4.2499999970409315, -4.339999996486332, -4.999999996379223, -4.100000001216582, -4.9999999954516126, -4.999999997300898, -3.810000000780483, -4.999999995751321, -4.999999997644116, -4.110000001990647, -4.1300000007790425, -4.140000001210538, -4.130000000461019, -3.999999999185242, -3.9999999994203232, -3.8100000012602386, -4.00000000191078, -3.00000000389854, -3.410000000586828, -4.000000000267046, -4.999999994406413, -3.2700000006079906, -3.0000000042992063, -4.999999994856513, -3.9600000008048735, -3.0200000007053496, -3.00000000189391, -3.1000000010003723, -3.8000000008322554, -3.500000000729994, -3.0700000007135206, -3.810000000780483, -4.999999994458127, -4.140000000843661, -3.0400000010094463, -4.0700000007933035, -3.2700000006079906, -3.2800000016007815, -2.0000000074058812, -3.999999999476748, -3.999999999719141, -3.0500000006568, -3.999999999769014, -3.4100000006184525, -2.999999999253986, -3.5900000007446646, -4.000000001459619, -4.9999999925136045, -3.620000000749456, -4.9999999971306694, -3.43000000077204, -2.999999999253986, -3.9100000008501583, -3.999999999868623, -3.7800000007220826, -3.869999997946196, -2.6300000005884008, -3.44000000072026, -4.999999994655502, -3.5700000007948733, -3.7700000007738512, -3.080000000636522, -2.960000000654662, -2.550000000575421, -4.000000001751808, -3.580000001294112, -3.99999999923041, -3.7400000007690535, -3.490000000728305, -2.000000003719858, -2.9300000005837354, -3.9500000011883487, -3.1700000006229794, -3.0400000006425696, -3.0300000007069046, -3.4500000007752845, -3.560000000793189, -3.9400000008739005, -3.310000002808385, -3.3800000006569264, -3.760000000900986, -3.44000000072026, -3.6900000007074047, -3.3700000007623023, -3.7400000011306047, -3.999999998351725, -3.1900000006199605, -3.9999999998187494, -4.000000000372016, -4.270000001190947, -4.100000000849711, -3.9400000012406418, -3.800000000894932, -3.800000001261811, -4.050000002052007, -3.8800000013983658, -3.8800000001556874, -4.0000000006656125, -3.89000000084692, -3.5500000007916315, -3.2500000013312995, -3.560000000587729, -3.000000003238682, -4.00000000126326, -4.999999992812568, -3.7400000011306047, -4.999999992912166, -4.999999998467976, -3.9999999982249075, -3.0000000036544057, -4.07000000122105, -3.9999999951366783, -3.999999997677001, -3.6800000008127847, -2.750000000699685, -3.9999999991215063, -3.6100000006944306, -4.999999993908376, -2.7600000006095513, -4.010000000863252, -3.6100000012903375, -4.0000000009123715, -3.460000000723506, -3.570000000741412, -3.5300000004870427, -3.99999999847399, -3.999999998075429, -3.9999999998187494, -4.0000000006656125, -3.4800000013963768, -3.7800000007755425, -3.9999999979758263, -3.830000000523595, -4.999999993391179, -3.250000000393011, -3.000000002192736, -3.6900000009115015, -4.000000001541647, -3.8800000005161026, -4.999999990869889, -2.7700000005577867, -2.650000000645136, -3.7500000007706102, -3.5700000007948733, -4.000000001457718, -3.960000000905736, -3.9999999985735957, -3.3800000007103925, -3.400000000146625, -3.3600000007606137, -3.0500000006568, -3.5100000005979703, -3.360000000707151, -4.000000001870093, -3.3400000006504413, -2.0000000022753595, -3.000000002989728, -3.9999999994203232, -3.390000000658614, -3.999999997677001, -3.000000001545221, -3.200000000734674, -4.000000002324302, -3.170000000676265, -3.020000000651869, -3.00000000528098, -3.000000001943652, -3.170000000676265, -2.6799999949977305, -3.3200000005937134, -3.410000000586828, -3.9999999985447396, -4.999999992563482, -4.000000000366658, -3.999999997677001, -4.9999999954026295, -3.0000000010470473, -4.999999995651709, -2.000000003520643, -2.0000000030723513, -3.1400000006713316, -3.3900000007655535, -3.669999999963755, -3.1400000006713316, -4.220000000639966, -3.1400000007248092, -3.070000000553104, -3.7100000008175873, -3.5000000007834573, -3.200000000681193, -2.9100000006621585, -2.3800000005476476, -3.1200000006680844, -4.020000000494929, -3.9999999956845858, -4.999999997612628, -3.6400000007527007, -3.600000000746219, -3.2600000005839815, -3.9700000008954395, -3.860000001007879, -4.240000004382877, -3.1600000007280546, -2.900000000685748, -3.630000000804614, -3.7400000005371385, -4.999999997559474, -3.2000000006077944, -2.800000000616045, -3.999999996880009, -3.0000000056253815, -3.9999999992708517, -4.999999994273802, -4.120000000742096, -3.780000000897966, -4.0800000008243416, -2.820000000619286, -4.1300000007790425, -2.4800000005105423, -3.3800000007638684, -4.000000001163646, -4.400000000804619, -3.000000003338425, -3.999999997278433, -4.150000000842214, -3.870000000884414, -4.999999993061511, -3.760000000900986, -3.5200000007332313, -4.130000000845239, -3.780000002367045, -3.440000000215493, -3.000000003575271, -2.63000000064189, -4.999999996923448, -3.360000000707151, -4.000000001915735, -4.999999995853671, -3.4100000007687936, -3.9999999954354943, -3.89000000073998, -3.4900000007817686, -4.999999994954321, -3.5000000007834573, -3.8500000008404314, -3.4800000013963768, -4.000000000366658, -3.170000000622801, -3.6800000009129494, -3.9999999989909476, -2.860000000669654, -3.480000000673286, -4.140000000429885, -3.9999999993207163, -3.0000000016448283, -3.460000000776972, -3.9999999973780467, -3.3800000006569264, -3.000000005998769, -2.6000000005300685, -3.9699999976356515, -3.999999997577396, -3.7600000007188363, -3.860000001015435, -4.999999994057722, -3.9999999993519, -4.050000000872999, -3.9200000008769216, -3.000000000598751, -3.670000000811094, -4.240000001195548, -4.000000001277753, -2.0000000040685566, -3.0200000007053496, -3.83000000083719, -4.999999993360466, -3.9999999997356737, -3.9999999991215063, -3.0700000006600394, -3.2200000006309732, -3.370000000655378, -3.9999999992708517, -4.999999997021959, -3.000000002142863, -3.200000000681193, -3.999999999140196, -2.000000006359801, -2.4400000005575215, -3.960000000504002, -4.000000000284336, -2.999999996165692, -3.760000000534118, -3.9999999976395264, -3.9999999988225485, -3.9999999969796165, -3.0000000039360764, -4.999999994456278, -3.9999999967305326, -3.9999999995697997, -3.999999995735969, -3.7300000008208345, -3.98000000050098, -3.0000000018440427, -3.999999997776611, -4.000000000267046, -3.7500000008775634, -3.0000000023732554, -2.8200000005658286, -3.0100000006174863, -3.9999999999682276, -3.3300000007558244, -3.400000000588402, -3.999999997776611, -3.000000001943652, -3.9999999947879816, -3.499999999839692, -4.230000000150339, -3.000000004384379, -3.6400000007527047)\n",
      "Distance Matrix\n",
      "[[12.2753166   0.         11.64514051]\n",
      " [15.09986416 11.64514051  0.        ]\n",
      " [11.57378494  7.13266413 11.08124531]\n",
      " [16.30054901 13.00731708 15.19728915]\n",
      " [ 0.         12.2753166  15.09986416]]\n",
      "closest\n",
      "[1 2 1 1 0]\n",
      "Distance Matrix\n",
      "[[12.2753166   5.65399164 11.64514051]\n",
      " [15.09986416 11.03326126  0.        ]\n",
      " [11.57378494  5.13596353 11.08124531]\n",
      " [16.30054901  8.11274233 15.19728915]\n",
      " [ 0.         11.91891302 15.09986416]]\n",
      "closest\n",
      "[1 2 1 1 0]\n",
      "{0: 1, 1: 2, 2: 1, 3: 1, 4: 0}\n",
      "sample_points_ids\n",
      "[0, 4, 3, 2]\n",
      "the tuples\n",
      "(-4.999999988964701, -3.880000000480937, -3.6199999956803732, -3.180000000061177, -3.6500000018256795, -3.9500000002559332, -3.8900000015749336, -4.110000000195946, -4.999999973203114, -4.520000000229063, -3.1599999987284804, -3.82000000055533, -2.850000001533676, -2.879999998687405, -3.5300000009147117, -4.2300000024681275, -4.180000007938506, -3.5500000008900416, -4.9999999878869055, -2.2399999998686884, -3.7200000006793217, -4.0600000013972934, -3.460000001848648, -3.5700000007814374, -3.559999999308133, -3.3000000010634825, -3.95000000038447, -3.1899999986912175, -3.7000000005389335, -3.870000001595844, -3.229999999964085, -4.000000006419566, -3.9300000004498727, -3.4300000010387066, -3.269999999795536, -4.110000001345094, -4.279999999474687, -3.760000002028099, -3.4900000008650656, -4.55000000095163, -3.890000000447185, -3.3799999998522416, -3.2699999999671694, -3.1500000013857625, -3.730000000785938, -4.090000002851778, -3.739999996687099, -3.8600000005057353, -3.2800000012246344, -3.520000000451236, -3.6300000018842673, -3.930000001533121, -3.0799999982454382, -2.9900000002791907, -4.080000001376389, -3.5500000008023482, -4.100000001046991, -2.8300000005349015, -3.7600000030870744, -2.740000000686123, -3.4200000010511697, -3.689999998400684, -3.920000002230137, -3.180000000026144, -3.6200000008031856, -4.999999992564763, -3.9800000003531784, -3.9999999972337963, -3.760000000629728, -4.27000000117797, -3.8700000004933957, -3.4999999996295066, -3.9999999975032106, -4.060000001291534, -3.9200000023203527, -4.3500000077952405, -3.999999998311592, -4.999999986713846, -4.000000003700045, -3.5500000008023482, -3.900000000568932, -3.5499999993250033, -3.4300000020439514, -3.2299999986416186, -3.000000006446045, -3.0000000201561283, -3.7199999993568524, -3.170000001727016, -4.090000001366003, -3.0000000207257904, -3.1500000000632804, -4.450000000989949, -2.180000001265496, -3.5099999979477987, -3.999999989824524, -3.0000000002492095, -3.5900000008404422, -2.510000004744728, -3.480000000976772, -4.520000004819188, -3.8200000016480424, -3.909999996956611, -4.400000001042147, -3.0000000157412456, -4.000000010643401, -4.000000002095784, -4.390000006011898, -4.070000001386907, -3.6599999849361997, -3.9999999952131096, -4.200000000123348, -3.6700000006770392, -3.6800000008699265, -3.280000006938041, -3.700000001773348, -4.999999983710753, -4.999999985462032, -4.999999982767864, -4.999999986000986, -3.9300000004053786, -3.9800000014809243, -4.099999998400808, -4.089999996654038, -3.5400000009023764, -3.980000000365893, -3.9999999988342414, -3.919999998703242, -3.74000000253258, -3.6800000006665234, -3.4600000008963603, -3.7900000016793336, -3.9600000015018275, -3.95000000041626, -4.999999989835123, -4.2900000020256, -3.00000001776207, -4.4800000037048555, -4.130000000196451, -4.080000001376389, -4.000000005366649, -4.020000000249595, -4.279999995648735, -4.1600000012928895, -3.8000000005412056, -4.269999998115105, -4.360000006287092, -4.250000001675612, -4.299999988322086, -4.1500000013032805, -4.079999998434426, -4.0099999967885065, -4.000000002212776, -4.249999990103461, -4.339999987955194, -4.139999999303459, -4.10000000192769, -3.9499999985805445, -4.999999987948255, -3.809999999245328, -3.930000001533121, -4.310000001136161, -4.999999988425748, -4.129999997526203, -4.1400000018604555, -4.129999999139562, -3.6699999997909347, -3.7100000006352234, -3.8100000024149794, -4.210000000112833, -3.54000000286808, -3.4099999995602044, -3.8800000004575774, -3.660000001815151, -3.269999999795536, -3.7299999998436593, -3.810000000230119, -3.9599999990594057, -3.020000001546888, -3.24999999998807, -3.1000000018446157, -3.80000000058013, -3.4999999996295066, -3.070000001484956, -3.809999999245328, -3.6400000029470063, -4.140000000096939, -3.0400000019454705, -4.000000001275294, -3.269999999795536, -3.9999999906329076, -3.3999999987036227, -3.739999998302808, -3.770000000572499, -3.0500000001872727, -3.780000000562111, -3.4100000003405375, -2.720000000541763, -3.5899999995179854, -4.050000001889141, -3.280000002212122, -3.619999999480719, -4.219999999616833, -3.4300000010387066, -2.720000000541763, -3.9100000004437976, -3.8000000005412056, -3.7799999979599836, -3.869999992267247, -2.6300000007077773, -3.439999999703902, -3.710000001762955, -3.570000000865241, -3.7699999992947912, -3.080000000114727, -2.960000000316441, -2.550000000806966, -4.179999999906209, -3.9999999946742886, -3.689999998421202, -3.7399999993320523, -3.489999999641841, -2.6599999994766317, -2.929999999013473, -3.9500000009233682, -3.1699999999635042, -3.040000000181961, -3.03000000153443, -3.4500000010139082, -3.5600000008775816, -3.9400000004331295, -4.999999977648684, -3.3799999984556965, -3.760000000735578, -3.439999999703902, -3.689999998071516, -3.3700000011131044, -3.999999996829738, -3.490000001539473, -3.189999999929887, -3.790000000551593, -3.900000000568932, -4.270000001641997, -4.100000000164182, -3.94000000219651, -3.8000000006683345, -3.800000002431846, -4.999999987617483, -4.00000000069083, -3.879999997165702, -3.9600000003740816, -3.8900000004686, -3.5500000008900416, -3.250000003025471, -3.559999999890003, -3.51999999970591, -4.080000000248648, -3.3400000021495257, -3.999999996829738, -3.3600000021286194, -4.999999991219347, -3.4700000008859724, -3.609999998805222, -4.0700000019780544, -2.850000001533676, -3.360000001000896, -3.680000000728914, -2.7500000009999668, -3.650000000697946, -3.609999998170708, -3.5600000019196876, -2.760000000546652, -4.0100000003153955, -3.610000002751035, -3.930000002384856, -3.4599999996791047, -3.5699999995427754, -3.529999997335263, -3.5200000008337717, -3.4400000009172675, -3.790000000551593, -3.9600000003740816, -3.9999999933272017, -3.7799999992824587, -3.420000000938176, -3.8299999988544586, -3.000000007662585, -3.0000000036169725, -3.3099999999253504, -3.6900000008531797, -4.999999985092314, -3.879999998770474, -2.9500000025568793, -2.7699999992118567, -2.650000002005474, -3.749999999319591, -3.570000000865241, -4.129999999795289, -3.9999999997934426, -3.5400000008128605, -3.3799999997781645, -3.3999999959620615, -3.3600000011254356, -3.0500000001872727, -3.5100000000401796, -3.359999999802965, -4.140000001517395, -3.3399999985052977, -2.3699999997795773, -3.4699999997582336, -3.7100000006352234, -3.38999999844336, -3.360000001000896, -3.180000000061177, -3.2000000013238283, -4.3199999990105145, -3.170000000038485, -3.0200000002244076, -3.9299999992776633, -3.2599999999775546, -3.170000000038485, -2.679999984669607, -3.3199999972076166, -3.4099999995602044, -3.540000000098743, -3.2900000022017273, -3.9000000004366773, -3.360000001000896, -3.860000001606235, -3.0800000001655805, -3.910000001554032, -2.619999999518429, -2.529999999612455, -3.1400000000756148, -3.3900000010883096, -3.000000009274988, -3.1400000000756148, -4.000000003295985, -3.1400000013980924, -3.0699999975175247, -3.710000000691657, -3.5000000009519745, -3.200000000001345, -2.9100000004004234, -2.380000001017564, -3.1200000001004167, -4.019999998535142, -2.9600000014187553, -4.000000005978729, -3.6399999994559176, -3.5999999995055174, -3.2599999972820064, -3.999999999928085, -3.9999999984462353, -4.999999997212952, -3.1600000013732994, -2.900000001695553, -3.6300000007908455, -3.739999999005688, -4.320000000138248, -3.199999999648624, -2.8000000004970604, -3.2000000011680134, -4.00999999785833, -3.6800000006665234, -3.680000001018394, -4.000000001948768, -3.780000000701959, -4.079999998910612, -2.820000000472257, -4.129999997526203, -2.4799999995712363, -3.3800000011006395, -4.0600000002695555, -4.39999999966015, -3.5399999996851315, -3.2800000010843817, -4.150000000080192, -3.870000000550732, -3.390000002097195, -3.760000000735578, -3.5199999996047096, -4.130000000113809, -4.9999999833367115, -3.439999997746335, -3.6299999989693106, -2.630000002030269, -4.000000004175664, -3.359999999802965, -4.15000000147612, -3.9500000015784167, -3.4100000010635036, -2.910000001470951, -3.8899999978236526, -3.490000000964309, -3.7700000017002333, -3.5000000009519745, -3.850000000518196, -3.9999999933272017, -3.9000000004366773, -3.1699999987160146, -3.6800000008699265, -3.749999997837954, -2.8600000004844093, -3.479999998331833, -4.139999999047748, -3.6900000006561293, -3.200000000040273, -3.460000001001572, -3.3000000010634825, -3.3799999984556965, -4.079999998979869, -2.599999999422511, -3.9699999913498525, -3.340000001021798, -3.7599999979847865, -3.999999998631449, -3.5900000018882605, -3.6800000003315763, -4.05000000027034, -3.920000000466752, -2.9900000002595912, -3.67000000074125, -4.240000001692484, -4.010000002067616, -2.7299999994035176, -3.020000001546888, -3.8300000005429933, -3.4500000020346127, -3.7600000022228457, -3.650000000697946, -3.070000000162473, -3.219999998654086, -3.369999998468163, -3.6800000006665234, -4.110000004091552, -3.2999999999357397, -3.200000000001345, -3.650000001160787, -3.1899999989229357, -2.440000000943302, -3.9599999986360004, -3.650000003938131, -2.1000000011894073, -3.759999998972064, -3.4599999983217478, -3.5900000007605324, -3.2200000011471044, -3.659999999559694, -3.670000001804769, -3.1700000011993077, -3.7400000006039242, -2.970000001447952, -3.730000000666857, -3.97999999860238, -3.2399999999984614, -3.380000000979985, -3.8800000004575774, -3.7500000019645445, -3.349999999420696, -2.819999999149793, -3.010000000157388, -3.8200000005202943, -3.3300000011627007, -3.399999999577078, -3.380000000979985, -3.2599999999775546, -2.78000000160677, -3.4999999958820824, -4.229999998222048, -3.7499999994656896, -3.6399999994559167)\n",
      "Distance Matrix\n",
      "[[ 0.         12.2753166  13.00731708  7.13266413]\n",
      " [11.64514051 15.09986416 15.19728915 11.08124531]\n",
      " [ 7.13266413 11.57378494 12.34592231  0.        ]\n",
      " [13.00731708 16.30054901  0.         12.34592231]\n",
      " [12.2753166   0.         16.30054901 11.57378494]]\n",
      "closest\n",
      "[0 3 3 2 1]\n",
      "Distance Matrix\n",
      "[[ 0.         12.2753166  13.00731708  7.90845106]\n",
      " [11.64514051 15.09986416 15.19728915  5.54062265]\n",
      " [ 7.13266413 11.57378494 12.34592231  5.54062265]\n",
      " [13.00731708 16.30054901  0.         12.6882307 ]\n",
      " [12.2753166   0.         16.30054901 12.25890282]]\n",
      "closest\n",
      "[0 3 3 2 1]\n",
      "{0: 0, 1: 3, 2: 3, 3: 2, 4: 1}\n"
     ]
    },
    {
     "data": {
      "image/png": "[encoded data removed]",
      "text/plain": [
       "<Figure size 640x480 with 1 Axes>"
      ]
     },
     "metadata": {},
     "output_type": "display_data"
    }
   ],
   "source": [
    "elbow_method(new_mat)"
   ]
  },
  {
   "cell_type": "code",
   "execution_count": 14,
   "metadata": {},
   "outputs": [
    {
     "name": "stdout",
     "output_type": "stream",
     "text": [
      "sample_points_ids\n",
      "[4, 1, 3, 2]\n",
      "the tuples\n",
      "(-4.1500000019498815, -3.8800000008452327, -3.6199999998215504, -3.000000001545221, -4.999999994356675, -4.999999995800196, -4.9999999955521055, -4.110000000882736, -2.9800000031456735, -4.9999999986622985, -3.1600000006212436, -3.820000000835496, -3.9999999951366783, -2.880000000299893, -3.530000000788259, -4.000000002334051, -4.180000003628079, -3.5500000007916315, -4.07000000203155, -2.240000000471481, -3.720000000819274, -4.999999996398828, -3.999999998373139, -3.9999999987229415, -3.5600000005642167, -3.9999999973780467, -4.000000000615738, -3.1900000006260423, -4.999999994348862, -4.999999995452497, -3.2300000006859952, -4.999999997760183, -3.930000000875347, -3.43000000077204, -3.2700000006079906, -4.99999999664792, -4.999999997426195, -4.999999994917372, -3.999999998324513, -4.999999998975221, -4.000000000316915, -3.000000002541424, -3.000000001993521, -3.150000000726496, -3.7300000009054526, -4.999999996877352, -3.740000000662107, -3.860000000841986, -3.280000000747651, -3.5200000009093766, -3.630000001253641, -4.999999995751321, -3.080000000265389, -2.9900000006506176, -4.999999996498439, -3.999999998623333, -4.999999996556119, -2.830000000674254, -4.000000000137073, -2.740000000687798, -3.420000000770482, -2.0000000088503875, -3.9200000012436633, -3.180000000677949, -3.6200000008029183, -4.000000003984667, -4.000000000765221, -3.7700000010998544, -3.7600000008257672, -4.999999997444909, -3.8700000008436715, -3.500000000729994, -3.790000001079398, -4.999999996376869, -4.000000000862472, -5.000000000222617, -3.8500000010181754, -4.999999996926583, -4.250000000609221, -3.999999998623333, -4.000000000372016, -3.550000000565793, -3.430000000981201, -3.230000000632528, -3.4600000001784514, -4.999999996471067, -3.720000000765812, -3.170000000989852, -4.999999996548308, -4.519999999095074, -3.150000000673016, -4.999999998341507, -2.1800000005151507, -3.9999999981562353, -3.2200000016620165, -3.0000000006486234, -3.59000000079812, -2.5100000021706075, -3.4800000007802177, -4.52000000257203, -4.999999995203417, -3.910000000144768, -4.99999999809242, -4.149999999473138, -4.250000003101109, -4.000000001231704, -4.3900000029758495, -4.999999996448703, -3.659999995276095, -3.620000001253195, -4.000000001861039, -3.9999999992211115, -3.6800000009129494, -3.2800000031013163, -4.999999994605628, -3.7600000023483857, -3.8900000022155057, -3.690000002420037, -3.9300000021747272, -4.000000000516133, -4.999999996000403, -4.100000000482969, -4.090000000117554, -3.540000000789946, -3.980000000867857, -3.0000000055173857, -3.920000000510051, -3.740000001270745, -3.9999999992708517, -3.999999998175035, -4.999999995053928, -4.999999995900796, -3.9500000008723246, -4.999999997705116, -4.999999997789446, -4.2999999993199305, -4.480000002494463, -4.000000001512347, -4.999999996498439, -4.43000000026755, -4.000000000955972, -4.0000000014081625, -4.999999996897003, -3.999999999868623, -4.270000000457335, -4.360000003068978, -4.250000001193968, -4.299999996610474, -4.999999996847135, -4.080000000485997, -4.010000000129645, -4.0100000012177235, -4.2499999970409315, -4.339999996486332, -4.999999996379223, -4.100000001216582, -4.9999999954516126, -4.999999997300898, -3.810000000780483, -4.999999995751321, -4.999999997644116, -4.110000001990647, -4.1300000007790425, -4.140000001210538, -4.130000000461019, -3.999999999185242, -3.9999999994203232, -3.8100000012602386, -4.00000000191078, -3.00000000389854, -3.410000000586828, -4.000000000267046, -4.999999994406413, -3.2700000006079906, -3.0000000042992063, -4.999999994856513, -3.9600000008048735, -3.0200000007053496, -3.00000000189391, -3.1000000010003723, -3.8000000008322554, -3.500000000729994, -3.0700000007135206, -3.810000000780483, -4.999999994458127, -4.140000000843661, -3.0400000010094463, -4.0700000007933035, -3.2700000006079906, -3.2800000016007815, -2.0000000074058812, -3.999999999476748, -3.999999999719141, -3.0500000006568, -3.999999999769014, -3.4100000006184525, -2.999999999253986, -3.5900000007446646, -4.000000001459619, -4.9999999925136045, -3.620000000749456, -4.9999999971306694, -3.43000000077204, -2.999999999253986, -3.9100000008501583, -3.999999999868623, -3.7800000007220826, -3.869999997946196, -2.6300000005884008, -3.44000000072026, -4.999999994655502, -3.5700000007948733, -3.7700000007738512, -3.080000000636522, -2.960000000654662, -2.550000000575421, -4.000000001751808, -3.580000001294112, -3.99999999923041, -3.7400000007690535, -3.490000000728305, -2.000000003719858, -2.9300000005837354, -3.9500000011883487, -3.1700000006229794, -3.0400000006425696, -3.0300000007069046, -3.4500000007752845, -3.560000000793189, -3.9400000008739005, -3.310000002808385, -3.3800000006569264, -3.760000000900986, -3.44000000072026, -3.6900000007074047, -3.3700000007623023, -3.7400000011306047, -3.999999998351725, -3.1900000006199605, -3.9999999998187494, -4.000000000372016, -4.270000001190947, -4.100000000849711, -3.9400000012406418, -3.800000000894932, -3.800000001261811, -4.050000002052007, -3.8800000013983658, -3.8800000001556874, -4.0000000006656125, -3.89000000084692, -3.5500000007916315, -3.2500000013312995, -3.560000000587729, -3.000000003238682, -4.00000000126326, -4.999999992812568, -3.7400000011306047, -4.999999992912166, -4.999999998467976, -3.9999999982249075, -3.0000000036544057, -4.07000000122105, -3.9999999951366783, -3.999999997677001, -3.6800000008127847, -2.750000000699685, -3.9999999991215063, -3.6100000006944306, -4.999999993908376, -2.7600000006095513, -4.010000000863252, -3.6100000012903375, -4.0000000009123715, -3.460000000723506, -3.570000000741412, -3.5300000004870427, -3.99999999847399, -3.999999998075429, -3.9999999998187494, -4.0000000006656125, -3.4800000013963768, -3.7800000007755425, -3.9999999979758263, -3.830000000523595, -4.999999993391179, -3.250000000393011, -3.000000002192736, -3.6900000009115015, -4.000000001541647, -3.8800000005161026, -4.999999990869889, -2.7700000005577867, -2.650000000645136, -3.7500000007706102, -3.5700000007948733, -4.000000001457718, -3.960000000905736, -3.9999999985735957, -3.3800000007103925, -3.400000000146625, -3.3600000007606137, -3.0500000006568, -3.5100000005979703, -3.360000000707151, -4.000000001870093, -3.3400000006504413, -2.0000000022753595, -3.000000002989728, -3.9999999994203232, -3.390000000658614, -3.999999997677001, -3.000000001545221, -3.200000000734674, -4.000000002324302, -3.170000000676265, -3.020000000651869, -3.00000000528098, -3.000000001943652, -3.170000000676265, -2.6799999949977305, -3.3200000005937134, -3.410000000586828, -3.9999999985447396, -4.999999992563482, -4.000000000366658, -3.999999997677001, -4.9999999954026295, -3.0000000010470473, -4.999999995651709, -2.000000003520643, -2.0000000030723513, -3.1400000006713316, -3.3900000007655535, -3.669999999963755, -3.1400000006713316, -4.220000000639966, -3.1400000007248092, -3.070000000553104, -3.7100000008175873, -3.5000000007834573, -3.200000000681193, -2.9100000006621585, -2.3800000005476476, -3.1200000006680844, -4.020000000494929, -3.9999999956845858, -4.999999997612628, -3.6400000007527007, -3.600000000746219, -3.2600000005839815, -3.9700000008954395, -3.860000001007879, -4.240000004382877, -3.1600000007280546, -2.900000000685748, -3.630000000804614, -3.7400000005371385, -4.999999997559474, -3.2000000006077944, -2.800000000616045, -3.999999996880009, -3.0000000056253815, -3.9999999992708517, -4.999999994273802, -4.120000000742096, -3.780000000897966, -4.0800000008243416, -2.820000000619286, -4.1300000007790425, -2.4800000005105423, -3.3800000007638684, -4.000000001163646, -4.400000000804619, -3.000000003338425, -3.999999997278433, -4.150000000842214, -3.870000000884414, -4.999999993061511, -3.760000000900986, -3.5200000007332313, -4.130000000845239, -3.780000002367045, -3.440000000215493, -3.000000003575271, -2.63000000064189, -4.999999996923448, -3.360000000707151, -4.000000001915735, -4.999999995853671, -3.4100000007687936, -3.9999999954354943, -3.89000000073998, -3.4900000007817686, -4.999999994954321, -3.5000000007834573, -3.8500000008404314, -3.4800000013963768, -4.000000000366658, -3.170000000622801, -3.6800000009129494, -3.9999999989909476, -2.860000000669654, -3.480000000673286, -4.140000000429885, -3.9999999993207163, -3.0000000016448283, -3.460000000776972, -3.9999999973780467, -3.3800000006569264, -3.000000005998769, -2.6000000005300685, -3.9699999976356515, -3.999999997577396, -3.7600000007188363, -3.860000001015435, -4.999999994057722, -3.9999999993519, -4.050000000872999, -3.9200000008769216, -3.000000000598751, -3.670000000811094, -4.240000001195548, -4.000000001277753, -2.0000000040685566, -3.0200000007053496, -3.83000000083719, -4.999999993360466, -3.9999999997356737, -3.9999999991215063, -3.0700000006600394, -3.2200000006309732, -3.370000000655378, -3.9999999992708517, -4.999999997021959, -3.000000002142863, -3.200000000681193, -3.999999999140196, -2.000000006359801, -2.4400000005575215, -3.960000000504002, -4.000000000284336, -2.999999996165692, -3.760000000534118, -3.9999999976395264, -3.9999999988225485, -3.9999999969796165, -3.0000000039360764, -4.999999994456278, -3.9999999967305326, -3.9999999995697997, -3.999999995735969, -3.7300000008208345, -3.98000000050098, -3.0000000018440427, -3.999999997776611, -4.000000000267046, -3.7500000008775634, -3.0000000023732554, -2.8200000005658286, -3.0100000006174863, -3.9999999999682276, -3.3300000007558244, -3.400000000588402, -3.999999997776611, -3.000000001943652, -3.9999999947879816, -3.499999999839692, -4.230000000150339, -3.000000004384379, -3.6400000007527047)\n",
      "Distance Matrix\n",
      "[[12.2753166  11.64514051 13.00731708  7.13266413]\n",
      " [15.09986416  0.         15.19728915 11.08124531]\n",
      " [11.57378494 11.08124531 12.34592231  0.        ]\n",
      " [16.30054901 15.19728915  0.         12.34592231]\n",
      " [ 0.         15.09986416 16.30054901 11.57378494]]\n",
      "closest\n",
      "[3 1 3 2 0]\n",
      "Distance Matrix\n",
      "[[12.2753166  11.64514051 13.00731708  3.56633206]\n",
      " [15.09986416  0.         15.19728915 10.79272548]\n",
      " [11.57378494 11.08124531 12.34592231  3.56633206]\n",
      " [16.30054901 15.19728915  0.         12.16911349]\n",
      " [ 0.         15.09986416 16.30054901 11.38416547]]\n",
      "closest\n",
      "[3 1 3 2 0]\n",
      "{0: 3, 1: 1, 2: 3, 3: 2, 4: 0}\n"
     ]
    }
   ],
   "source": [
    "km = KMeans(4)\n",
    "km.fit(new_mat)"
   ]
  },
  {
   "cell_type": "code",
   "execution_count": 15,
   "metadata": {},
   "outputs": [],
   "source": [
    "# Recommend movies for a particular user\n",
    "def recommend_movies(user_id, data,users_watched,user_idx,cluster_labels):\n",
    "    user_cluster = cluster_labels[user_idx[user_id]]\n",
    "    # print(user_cluster)\n",
    "    cluser_users = []\n",
    "    for row,cluster in cluster_labels.items():\n",
    "        if cluster == user_cluster and row!=user_idx[user_id]:\n",
    "            cluser_users.append(users_watched.iloc[row]) \n",
    "    rating_movie = {}\n",
    "    movie_rating_count={}\n",
    "    for df in cluser_users:\n",
    "        for key,value in df[df.notnull()].items():\n",
    "            if int(key) not in rating_movie:\n",
    "                rating_movie[int(key)] = 0\n",
    "                movie_rating_count[int(key)] = 0\n",
    "            \n",
    "            rating_movie[int(key)]+=float(value)\n",
    "            movie_rating_count[int(key)]+=1\n",
    "\n",
    "    for key,value in movie_rating_count.items():\n",
    "        if(value>0):\n",
    "            rating_movie[key]=rating_movie[key]/float(value)\n",
    "\n",
    "    final_list = sorted(rating_movie.items(), key=lambda x: x[1],reverse=True)\n",
    "\n",
    "    # print(final_list)\n",
    "    movies=pd.read_csv(\"movies.csv\")\n",
    "    movies=movies.set_index(keys=['MovieID'])\n",
    "    recommendations=[]\n",
    "    for x in final_list:\n",
    "        movie=movies.loc[x[0]]\n",
    "        recommendations.append([x[0],x[1],movie['Title'],movie['Genres']])\n",
    "\n",
    "    return recommendations"
   ]
  },
  {
   "cell_type": "code",
   "execution_count": 16,
   "metadata": {},
   "outputs": [
    {
     "name": "stdout",
     "output_type": "stream",
     "text": [
      "Cluster Labels: {0: 3, 1: 1, 2: 3, 3: 2, 4: 0}\n",
      "User_Index : {1: 0, 2: 1, 12: 2, 15: 3, 17: 4}\n"
     ]
    },
    {
     "name": "stdout",
     "output_type": "stream",
     "text": [
      "Recommended movies for User 12\n",
      "Title : Toy Story (1995) , MovieID : 1 , Rating : 5.0 , Genres : Animation|Children's|Comedy\n",
      "Title : Pocahontas (1995) , MovieID : 48 , Rating : 5.0 , Genres : Animation|Children's|Musical|Romance\n",
      "Title : Apollo 13 (1995) , MovieID : 150 , Rating : 5.0 , Genres : Drama\n",
      "Title : Schindler's List (1993) , MovieID : 527 , Rating : 5.0 , Genres : Drama|War\n",
      "Title : Beauty and the Beast (1991) , MovieID : 595 , Rating : 5.0 , Genres : Animation|Children's|Musical\n"
     ]
    }
   ],
   "source": [
    "cluster_labels = km.get_pointCluster()\n",
    "\n",
    "user_index = {}\n",
    "i =0\n",
    "for x in user_ids:\n",
    "    user_index[int(x)] = i \n",
    "    i+=1\n",
    "\n",
    "print(f\"Cluster Labels: {cluster_labels}\")\n",
    "print(f\"User_Index : {user_index}\")\n",
    "# User ID for which we want to recommend movies\n",
    "user_id = 12  # Replace with the desired user ID\n",
    "\n",
    "# Recommend movies for the user\n",
    "recommended_movies = recommend_movies(user_id, A_mat,A_watched,user_index,cluster_labels)\n",
    "print(\"Recommended movies for User\", user_id)\n",
    "for movie in recommended_movies[:5]:  # Display top 10 recommended movies\n",
    "    print(f\"Title : {movie[2]} , MovieID : {movie[0]} , Rating : {movie[1]} , Genres : {movie[3]}\")  # Assuming the first column is movie titles\n"
   ]
  },
  {
   "cell_type": "code",
   "execution_count": null,
   "metadata": {},
   "outputs": [],
   "source": []
  }
 ],
 "metadata": {
  "kernelspec": {
   "display_name": "Python 3",
   "language": "python",
   "name": "python3"
  },
  "language_info": {
   "codemirror_mode": {
    "name": "ipython",
    "version": 3
   },
   "file_extension": ".py",
   "mimetype": "text/x-python",
   "name": "python",
   "nbconvert_exporter": "python",
   "pygments_lexer": "ipython3",
   "version": "3.11.5"
  }
 },
 "nbformat": 4,
 "nbformat_minor": 2
}
